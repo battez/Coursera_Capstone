{
 "cells": [
  {
   "cell_type": "markdown",
   "metadata": {
    "button": false,
    "deletable": true,
    "new_sheet": false,
    "run_control": {
     "read_only": false
    }
   },
   "source": [
    "<a href=\"https://cognitiveclass.ai\"><img src = \"https://ibm.box.com/shared/static/9gegpsmnsoo25ikkbl4qzlvlyjbgxs5x.png\" width = 400> </a>\n",
    "\n",
    "<h1 align=center><font size = 5>Learning FourSquare API with Python</font></h1>"
   ]
  },
  {
   "cell_type": "markdown",
   "metadata": {
    "button": false,
    "deletable": true,
    "new_sheet": false,
    "run_control": {
     "read_only": false
    }
   },
   "source": [
    "   "
   ]
  },
  {
   "cell_type": "markdown",
   "metadata": {
    "button": false,
    "deletable": true,
    "new_sheet": false,
    "run_control": {
     "read_only": false
    }
   },
   "source": [
    "## Introduction\n",
    "\n",
    "In this lab, you will learn in details how to make calls to the Foursquare API for different purposes. You will learn how to construct a URL to send a request to the API to search for a specific type of venues, to explore a particular venue, to explore a Foursquare user, to explore a geographical location, and to get trending venues around a location. Also, you will learn how to use the visualization library, Folium, to visualize the results."
   ]
  },
  {
   "cell_type": "markdown",
   "metadata": {
    "button": false,
    "deletable": true,
    "new_sheet": false,
    "run_control": {
     "read_only": false
    }
   },
   "source": [
    "## Table of Contents\n",
    "\n",
    "1. <a href=\"#item1\">Foursquare API Search Function</a>\n",
    "2. <a href=\"#item2\">Explore a Given Venue</a>  \n",
    "3. <a href=\"#item3\">Explore a User</a>  \n",
    "4. <a href=\"#item4\">Foursquare API Explore Function</a>  \n",
    "5. <a href=\"#item5\">Get Trending Venues</a>  "
   ]
  },
  {
   "cell_type": "markdown",
   "metadata": {
    "button": false,
    "deletable": true,
    "new_sheet": false,
    "run_control": {
     "read_only": false
    }
   },
   "source": [
    "### Import necessary Libraries"
   ]
  },
  {
   "cell_type": "code",
   "execution_count": 1,
   "metadata": {
    "button": false,
    "collapsed": false,
    "deletable": true,
    "jupyter": {
     "outputs_hidden": false
    },
    "new_sheet": false,
    "run_control": {
     "read_only": false
    }
   },
   "outputs": [
    {
     "name": "stdout",
     "output_type": "stream",
     "text": [
      "Folium installed\n",
      "Libraries imported.\n"
     ]
    }
   ],
   "source": [
    "import requests # library to handle requests\n",
    "import pandas as pd # library for data analsysis\n",
    "import numpy as np # library to handle data in a vectorized manner\n",
    "import random # library for random number generation\n",
    "\n",
    "#!conda install -c conda-forge geopy --yes \n",
    "from geopy.geocoders import Nominatim # module to convert an address into latitude and longitude values\n",
    "\n",
    "# libraries for displaying images\n",
    "from IPython.display import Image \n",
    "from IPython.core.display import HTML \n",
    "    \n",
    "# tranforming json file into a pandas dataframe library\n",
    "from pandas.io.json import json_normalize\n",
    "\n",
    "# !conda install -c conda-forge folium=0.5.0 --yes\n",
    "import folium # plotting library\n",
    "\n",
    "print('Folium installed')\n",
    "print('Libraries imported.')"
   ]
  },
  {
   "cell_type": "markdown",
   "metadata": {
    "button": false,
    "deletable": true,
    "new_sheet": false,
    "run_control": {
     "read_only": false
    }
   },
   "source": [
    "### Define Foursquare Credentials and Version"
   ]
  },
  {
   "cell_type": "markdown",
   "metadata": {
    "button": false,
    "deletable": true,
    "new_sheet": false,
    "run_control": {
     "read_only": false
    }
   },
   "source": [
    "##### Make sure that you have created a Foursquare developer account and have your credentials handy"
   ]
  },
  {
   "cell_type": "code",
   "execution_count": 2,
   "metadata": {
    "button": false,
    "collapsed": false,
    "deletable": true,
    "jupyter": {
     "outputs_hidden": false
    },
    "new_sheet": false,
    "run_control": {
     "read_only": false
    }
   },
   "outputs": [
    {
     "name": "stdout",
     "output_type": "stream",
     "text": [
      "Your credentails:\n",
      "CLIENT_ID: L0TXGO1IZHVWB54RS4IQBCO0OTRYYLX3MRYDMDMEHYWR3KV0\n",
      "CLIENT_SECRET:F2YLMRERUVAJ4AMQLE4HNW5U3JDTAH35054EPWEYPLLT5VQ4\n"
     ]
    }
   ],
   "source": [
    "CLIENT_ID = 'L0TXGO1IZHVWB54RS4IQBCO0OTRYYLX3MRYDMDMEHYWR3KV0' # your Foursquare ID\n",
    "CLIENT_SECRET = 'F2YLMRERUVAJ4AMQLE4HNW5U3JDTAH35054EPWEYPLLT5VQ4' # your Foursquare Secret\n",
    "VERSION = '20180604'\n",
    "LIMIT = 30\n",
    "print('Your credentails:')\n",
    "print('CLIENT_ID: ' + CLIENT_ID)\n",
    "print('CLIENT_SECRET:' + CLIENT_SECRET)"
   ]
  },
  {
   "cell_type": "markdown",
   "metadata": {
    "button": false,
    "deletable": true,
    "new_sheet": false,
    "run_control": {
     "read_only": false
    }
   },
   "source": [
    "  "
   ]
  },
  {
   "cell_type": "markdown",
   "metadata": {
    "button": false,
    "deletable": true,
    "new_sheet": false,
    "run_control": {
     "read_only": false
    }
   },
   "source": [
    "#### Let's again assume that you are staying at the Conrad hotel. So let's start by converting the Contrad Hotel's address to its latitude and longitude coordinates."
   ]
  },
  {
   "cell_type": "markdown",
   "metadata": {},
   "source": [
    "In order to define an instance of the geocoder, we need to define a user_agent. We will name our agent <em>foursquare_agent</em>, as shown below."
   ]
  },
  {
   "cell_type": "code",
   "execution_count": 3,
   "metadata": {
    "button": false,
    "collapsed": false,
    "deletable": true,
    "jupyter": {
     "outputs_hidden": false
    },
    "new_sheet": false,
    "run_control": {
     "read_only": false
    }
   },
   "outputs": [
    {
     "name": "stdout",
     "output_type": "stream",
     "text": [
      "{\n",
      "  \"place_id\": 60179540,\n",
      "  \"licence\": \"Data \\u00a9 OpenStreetMap contributors, ODbL 1.0. https://osm.org/copyright\",\n",
      "  \"osm_type\": \"node\",\n",
      "  \"osm_id\": 4957663866,\n",
      "  \"boundingbox\": [\n",
      "    \"40.7149055\",\n",
      "    \"40.7150055\",\n",
      "    \"-74.0153865\",\n",
      "    \"-74.0152865\"\n",
      "  ],\n",
      "  \"lat\": \"40.7149555\",\n",
      "  \"lon\": \"-74.0153365\",\n",
      "  \"display_name\": \"Loopy Doopy Rooftop Bar, 102, North End Avenue, Battery Park City, Manhattan Community Board 1, Manhattan, New York County, New York, 10282, United States of America\",\n",
      "  \"class\": \"amenity\",\n",
      "  \"type\": \"bar\",\n",
      "  \"importance\": 0.611,\n",
      "  \"icon\": \"https://nominatim.openstreetmap.org/images/mapicons/food_bar.p.20.png\"\n",
      "}\n"
     ]
    }
   ],
   "source": [
    "address = '102 North End Ave, New York, NY'\n",
    "\n",
    "geolocator = Nominatim(user_agent=\"foursquare_agent\")\n",
    "location = geolocator.geocode(address)\n",
    "latitude = location.latitude\n",
    "longitude = location.longitude\n",
    "\n",
    "import json\n",
    "print(json.dumps(location.raw, indent=2))\n"
   ]
  },
  {
   "cell_type": "markdown",
   "metadata": {
    "button": false,
    "deletable": true,
    "new_sheet": false,
    "run_control": {
     "read_only": false
    }
   },
   "source": [
    "   "
   ]
  },
  {
   "cell_type": "markdown",
   "metadata": {
    "button": false,
    "deletable": true,
    "new_sheet": false,
    "run_control": {
     "read_only": false
    }
   },
   "source": [
    "<a id=\"item1\"></a>"
   ]
  },
  {
   "cell_type": "markdown",
   "metadata": {
    "button": false,
    "deletable": true,
    "new_sheet": false,
    "run_control": {
     "read_only": false
    }
   },
   "source": [
    "## 1. Search for a specific venue category\n",
    "> `https://api.foursquare.com/v2/venues/`**search**`?client_id=`**CLIENT_ID**`&client_secret=`**CLIENT_SECRET**`&ll=`**LATITUDE**`,`**LONGITUDE**`&v=`**VERSION**`&query=`**QUERY**`&radius=`**RADIUS**`&limit=`**LIMIT**"
   ]
  },
  {
   "cell_type": "markdown",
   "metadata": {
    "button": false,
    "deletable": true,
    "new_sheet": false,
    "run_control": {
     "read_only": false
    }
   },
   "source": [
    "#### Now, let's assume that it is lunch time, and you are craving Italian food. So, let's define a query to search for Italian food that is within 500 metres from the Conrad Hotel. "
   ]
  },
  {
   "cell_type": "code",
   "execution_count": 4,
   "metadata": {
    "button": false,
    "collapsed": false,
    "deletable": true,
    "jupyter": {
     "outputs_hidden": false
    },
    "new_sheet": false,
    "run_control": {
     "read_only": false
    },
    "scrolled": true
   },
   "outputs": [
    {
     "name": "stdout",
     "output_type": "stream",
     "text": [
      "Italian .... OK!\n"
     ]
    }
   ],
   "source": [
    "search_query = 'Italian'\n",
    "radius = 500\n",
    "print(search_query + ' .... OK!')"
   ]
  },
  {
   "cell_type": "markdown",
   "metadata": {
    "button": false,
    "deletable": true,
    "new_sheet": false,
    "run_control": {
     "read_only": false
    }
   },
   "source": [
    "#### Define the corresponding URL"
   ]
  },
  {
   "cell_type": "code",
   "execution_count": 5,
   "metadata": {
    "button": false,
    "collapsed": false,
    "deletable": true,
    "jupyter": {
     "outputs_hidden": false
    },
    "new_sheet": false,
    "run_control": {
     "read_only": false
    }
   },
   "outputs": [
    {
     "data": {
      "text/plain": [
       "'https://api.foursquare.com/v2/venues/search?client_id=L0TXGO1IZHVWB54RS4IQBCO0OTRYYLX3MRYDMDMEHYWR3KV0&client_secret=F2YLMRERUVAJ4AMQLE4HNW5U3JDTAH35054EPWEYPLLT5VQ4&ll=40.7149555,-74.0153365&v=20180604&query=Italian&radius=500&limit=30'"
      ]
     },
     "execution_count": 5,
     "metadata": {},
     "output_type": "execute_result"
    }
   ],
   "source": [
    "url = 'https://api.foursquare.com/v2/venues/search?client_id={}&client_secret={}&ll={},{}&v={}&query={}&radius={}&limit={}'.format(CLIENT_ID, CLIENT_SECRET, latitude, longitude, VERSION, search_query, radius, LIMIT)\n",
    "url"
   ]
  },
  {
   "cell_type": "markdown",
   "metadata": {
    "button": false,
    "deletable": true,
    "new_sheet": false,
    "run_control": {
     "read_only": false
    }
   },
   "source": [
    "#### Send the GET Request and examine the results"
   ]
  },
  {
   "cell_type": "code",
   "execution_count": 7,
   "metadata": {
    "button": false,
    "collapsed": false,
    "deletable": true,
    "jupyter": {
     "outputs_hidden": false
    },
    "new_sheet": false,
    "run_control": {
     "read_only": false
    },
    "scrolled": true
   },
   "outputs": [
    {
     "name": "stdout",
     "output_type": "stream",
     "text": [
      "{\n",
      "  \"meta\": {\n",
      "    \"code\": 200,\n",
      "    \"requestId\": \"5e56674798205d001bbec2f7\"\n",
      "  },\n",
      "  \"response\": {\n",
      "    \"venues\": [\n",
      "      {\n",
      "        \"id\": \"4fa862b3e4b0ebff2f749f06\",\n",
      "        \"name\": \"Harry's Italian Pizza Bar\",\n",
      "        \"location\": {\n",
      "          \"address\": \"225 Murray St\",\n",
      "          \"lat\": 40.71521779064671,\n",
      "          \"lng\": -74.01473940209351,\n",
      "          \"labeledLatLngs\": [\n",
      "            {\n",
      "              \"label\": \"display\",\n",
      "              \"lat\": 40.71521779064671,\n",
      "              \"lng\": -74.01473940209351\n",
      "            }\n",
      "          ],\n",
      "          \"distance\": 58,\n",
      "          \"postalCode\": \"10282\",\n",
      "          \"cc\": \"US\",\n",
      "          \"city\": \"New York\",\n",
      "          \"state\": \"NY\",\n",
      "          \"country\": \"United States\",\n",
      "          \"formattedAddress\": [\n",
      "            \"225 Murray St\",\n",
      "            \"New York, NY 10282\",\n",
      "            \"United States\"\n",
      "          ]\n",
      "        },\n",
      "        \"categories\": [\n",
      "          {\n",
      "            \"id\": \"4bf58dd8d48988d1ca941735\",\n",
      "            \"name\": \"Pizza Place\",\n",
      "            \"pluralName\": \"Pizza Places\",\n",
      "            \"shortName\": \"Pizza\",\n",
      "            \"icon\": {\n",
      "              \"prefix\": \"https://ss3.4sqi.net/img/categories_v2/food/pizza_\",\n",
      "              \"suffix\": \".png\"\n",
      "            },\n",
      "            \"primary\": true\n",
      "          }\n",
      "        ],\n",
      "        \"delivery\": {\n",
      "          \"id\": \"294544\",\n",
      "          \"url\": \"https://www.seamless.com/menu/harrys-italian-pizza-bar-225-murray-st-new-york/294544?affiliate=1131&utm_source=foursquare-affiliate-network&utm_medium=affiliate&utm_campaign=1131&utm_content=294544\",\n",
      "          \"provider\": {\n",
      "            \"name\": \"seamless\",\n",
      "            \"icon\": {\n",
      "              \"prefix\": \"https://fastly.4sqi.net/img/general/cap/\",\n",
      "              \"sizes\": [\n",
      "                40,\n",
      "                50\n",
      "              ],\n",
      "              \"name\": \"/delivery_provider_seamless_20180129.png\"\n",
      "            }\n",
      "          }\n",
      "        },\n",
      "        \"referralId\": \"v-1582720979\",\n",
      "        \"hasPerk\": false\n",
      "      },\n",
      "      {\n",
      "        \"id\": \"4f3232e219836c91c7bfde94\",\n",
      "        \"name\": \"Conca Cucina Italian Restaurant\",\n",
      "        \"location\": {\n",
      "          \"address\": \"63 W Broadway\",\n",
      "          \"lat\": 40.714484000000006,\n",
      "          \"lng\": -74.00980600000001,\n",
      "          \"labeledLatLngs\": [\n",
      "            {\n",
      "              \"label\": \"display\",\n",
      "              \"lat\": 40.714484000000006,\n",
      "              \"lng\": -74.00980600000001\n",
      "            }\n",
      "          ],\n",
      "          \"distance\": 469,\n",
      "          \"postalCode\": \"10007\",\n",
      "          \"cc\": \"US\",\n",
      "          \"city\": \"New York\",\n",
      "          \"state\": \"NY\",\n",
      "          \"country\": \"United States\",\n",
      "          \"formattedAddress\": [\n",
      "            \"63 W Broadway\",\n",
      "            \"New York, NY 10007\",\n",
      "            \"United States\"\n",
      "          ]\n",
      "        },\n",
      "        \"categories\": [\n",
      "          {\n",
      "            \"id\": \"4d4b7105d754a06374d81259\",\n",
      "            \"name\": \"Food\",\n",
      "            \"pluralName\": \"Food\",\n",
      "            \"shortName\": \"Food\",\n",
      "            \"icon\": {\n",
      "              \"prefix\": \"https://ss3.4sqi.net/img/categories_v2/food/default_\",\n",
      "              \"suffix\": \".png\"\n",
      "            },\n",
      "            \"primary\": true\n",
      "          }\n",
      "        ],\n",
      "        \"referralId\": \"v-1582720979\",\n",
      "        \"hasPerk\": false\n",
      "      },\n",
      "      {\n",
      "        \"id\": \"3fd66200f964a520f4e41ee3\",\n",
      "        \"name\": \"Ecco\",\n",
      "        \"location\": {\n",
      "          \"address\": \"124 Chambers St\",\n",
      "          \"crossStreet\": \"btwn Church St & W Broadway\",\n",
      "          \"lat\": 40.71533713859952,\n",
      "          \"lng\": -74.00884766217825,\n",
      "          \"labeledLatLngs\": [\n",
      "            {\n",
      "              \"label\": \"display\",\n",
      "              \"lat\": 40.71533713859952,\n",
      "              \"lng\": -74.00884766217825\n",
      "            }\n",
      "          ],\n",
      "          \"distance\": 549,\n",
      "          \"postalCode\": \"10007\",\n",
      "          \"cc\": \"US\",\n",
      "          \"city\": \"New York\",\n",
      "          \"state\": \"NY\",\n",
      "          \"country\": \"United States\",\n",
      "          \"formattedAddress\": [\n",
      "            \"124 Chambers St (btwn Church St & W Broadway)\",\n",
      "            \"New York, NY 10007\",\n",
      "            \"United States\"\n",
      "          ]\n",
      "        },\n",
      "        \"categories\": [\n",
      "          {\n",
      "            \"id\": \"4bf58dd8d48988d110941735\",\n",
      "            \"name\": \"Italian Restaurant\",\n",
      "            \"pluralName\": \"Italian Restaurants\",\n",
      "            \"shortName\": \"Italian\",\n",
      "            \"icon\": {\n",
      "              \"prefix\": \"https://ss3.4sqi.net/img/categories_v2/food/italian_\",\n",
      "              \"suffix\": \".png\"\n",
      "            },\n",
      "            \"primary\": true\n",
      "          }\n",
      "        ],\n",
      "        \"referralId\": \"v-1582720979\",\n",
      "        \"hasPerk\": false\n",
      "      }\n",
      "    ]\n",
      "  }\n",
      "}\n"
     ]
    }
   ],
   "source": [
    "results = requests.get(url).json()\n",
    "print(json.dumps(results, indent=2))\n",
    "#results"
   ]
  },
  {
   "cell_type": "markdown",
   "metadata": {
    "button": false,
    "deletable": true,
    "new_sheet": false,
    "run_control": {
     "read_only": false
    }
   },
   "source": [
    "#### Get relevant part of JSON and transform it into a *pandas* dataframe"
   ]
  },
  {
   "cell_type": "code",
   "execution_count": 8,
   "metadata": {
    "button": false,
    "collapsed": false,
    "deletable": true,
    "jupyter": {
     "outputs_hidden": false
    },
    "new_sheet": false,
    "run_control": {
     "read_only": false
    }
   },
   "outputs": [
    {
     "data": {
      "text/html": [
       "<div>\n",
       "<style scoped>\n",
       "    .dataframe tbody tr th:only-of-type {\n",
       "        vertical-align: middle;\n",
       "    }\n",
       "\n",
       "    .dataframe tbody tr th {\n",
       "        vertical-align: top;\n",
       "    }\n",
       "\n",
       "    .dataframe thead th {\n",
       "        text-align: right;\n",
       "    }\n",
       "</style>\n",
       "<table border=\"1\" class=\"dataframe\">\n",
       "  <thead>\n",
       "    <tr style=\"text-align: right;\">\n",
       "      <th></th>\n",
       "      <th>id</th>\n",
       "      <th>name</th>\n",
       "      <th>categories</th>\n",
       "      <th>referralId</th>\n",
       "      <th>hasPerk</th>\n",
       "      <th>location.address</th>\n",
       "      <th>location.lat</th>\n",
       "      <th>location.lng</th>\n",
       "      <th>location.labeledLatLngs</th>\n",
       "      <th>location.distance</th>\n",
       "      <th>...</th>\n",
       "      <th>location.state</th>\n",
       "      <th>location.country</th>\n",
       "      <th>location.formattedAddress</th>\n",
       "      <th>delivery.id</th>\n",
       "      <th>delivery.url</th>\n",
       "      <th>delivery.provider.name</th>\n",
       "      <th>delivery.provider.icon.prefix</th>\n",
       "      <th>delivery.provider.icon.sizes</th>\n",
       "      <th>delivery.provider.icon.name</th>\n",
       "      <th>location.crossStreet</th>\n",
       "    </tr>\n",
       "  </thead>\n",
       "  <tbody>\n",
       "    <tr>\n",
       "      <td>0</td>\n",
       "      <td>4fa862b3e4b0ebff2f749f06</td>\n",
       "      <td>Harry's Italian Pizza Bar</td>\n",
       "      <td>[{'id': '4bf58dd8d48988d1ca941735', 'name': 'P...</td>\n",
       "      <td>v-1582720979</td>\n",
       "      <td>False</td>\n",
       "      <td>225 Murray St</td>\n",
       "      <td>40.715218</td>\n",
       "      <td>-74.014739</td>\n",
       "      <td>[{'label': 'display', 'lat': 40.71521779064671...</td>\n",
       "      <td>58</td>\n",
       "      <td>...</td>\n",
       "      <td>NY</td>\n",
       "      <td>United States</td>\n",
       "      <td>[225 Murray St, New York, NY 10282, United Sta...</td>\n",
       "      <td>294544</td>\n",
       "      <td>https://www.seamless.com/menu/harrys-italian-p...</td>\n",
       "      <td>seamless</td>\n",
       "      <td>https://fastly.4sqi.net/img/general/cap/</td>\n",
       "      <td>[40, 50]</td>\n",
       "      <td>/delivery_provider_seamless_20180129.png</td>\n",
       "      <td>NaN</td>\n",
       "    </tr>\n",
       "    <tr>\n",
       "      <td>1</td>\n",
       "      <td>4f3232e219836c91c7bfde94</td>\n",
       "      <td>Conca Cucina Italian Restaurant</td>\n",
       "      <td>[{'id': '4d4b7105d754a06374d81259', 'name': 'F...</td>\n",
       "      <td>v-1582720979</td>\n",
       "      <td>False</td>\n",
       "      <td>63 W Broadway</td>\n",
       "      <td>40.714484</td>\n",
       "      <td>-74.009806</td>\n",
       "      <td>[{'label': 'display', 'lat': 40.71448400000000...</td>\n",
       "      <td>469</td>\n",
       "      <td>...</td>\n",
       "      <td>NY</td>\n",
       "      <td>United States</td>\n",
       "      <td>[63 W Broadway, New York, NY 10007, United Sta...</td>\n",
       "      <td>NaN</td>\n",
       "      <td>NaN</td>\n",
       "      <td>NaN</td>\n",
       "      <td>NaN</td>\n",
       "      <td>NaN</td>\n",
       "      <td>NaN</td>\n",
       "      <td>NaN</td>\n",
       "    </tr>\n",
       "    <tr>\n",
       "      <td>2</td>\n",
       "      <td>3fd66200f964a520f4e41ee3</td>\n",
       "      <td>Ecco</td>\n",
       "      <td>[{'id': '4bf58dd8d48988d110941735', 'name': 'I...</td>\n",
       "      <td>v-1582720979</td>\n",
       "      <td>False</td>\n",
       "      <td>124 Chambers St</td>\n",
       "      <td>40.715337</td>\n",
       "      <td>-74.008848</td>\n",
       "      <td>[{'label': 'display', 'lat': 40.71533713859952...</td>\n",
       "      <td>549</td>\n",
       "      <td>...</td>\n",
       "      <td>NY</td>\n",
       "      <td>United States</td>\n",
       "      <td>[124 Chambers St (btwn Church St &amp; W Broadway)...</td>\n",
       "      <td>NaN</td>\n",
       "      <td>NaN</td>\n",
       "      <td>NaN</td>\n",
       "      <td>NaN</td>\n",
       "      <td>NaN</td>\n",
       "      <td>NaN</td>\n",
       "      <td>btwn Church St &amp; W Broadway</td>\n",
       "    </tr>\n",
       "  </tbody>\n",
       "</table>\n",
       "<p>3 rows × 23 columns</p>\n",
       "</div>"
      ],
      "text/plain": [
       "                         id                             name  \\\n",
       "0  4fa862b3e4b0ebff2f749f06        Harry's Italian Pizza Bar   \n",
       "1  4f3232e219836c91c7bfde94  Conca Cucina Italian Restaurant   \n",
       "2  3fd66200f964a520f4e41ee3                             Ecco   \n",
       "\n",
       "                                          categories    referralId  hasPerk  \\\n",
       "0  [{'id': '4bf58dd8d48988d1ca941735', 'name': 'P...  v-1582720979    False   \n",
       "1  [{'id': '4d4b7105d754a06374d81259', 'name': 'F...  v-1582720979    False   \n",
       "2  [{'id': '4bf58dd8d48988d110941735', 'name': 'I...  v-1582720979    False   \n",
       "\n",
       "  location.address  location.lat  location.lng  \\\n",
       "0    225 Murray St     40.715218    -74.014739   \n",
       "1    63 W Broadway     40.714484    -74.009806   \n",
       "2  124 Chambers St     40.715337    -74.008848   \n",
       "\n",
       "                             location.labeledLatLngs  location.distance  ...  \\\n",
       "0  [{'label': 'display', 'lat': 40.71521779064671...                 58  ...   \n",
       "1  [{'label': 'display', 'lat': 40.71448400000000...                469  ...   \n",
       "2  [{'label': 'display', 'lat': 40.71533713859952...                549  ...   \n",
       "\n",
       "  location.state location.country  \\\n",
       "0             NY    United States   \n",
       "1             NY    United States   \n",
       "2             NY    United States   \n",
       "\n",
       "                           location.formattedAddress delivery.id  \\\n",
       "0  [225 Murray St, New York, NY 10282, United Sta...      294544   \n",
       "1  [63 W Broadway, New York, NY 10007, United Sta...         NaN   \n",
       "2  [124 Chambers St (btwn Church St & W Broadway)...         NaN   \n",
       "\n",
       "                                        delivery.url delivery.provider.name  \\\n",
       "0  https://www.seamless.com/menu/harrys-italian-p...               seamless   \n",
       "1                                                NaN                    NaN   \n",
       "2                                                NaN                    NaN   \n",
       "\n",
       "              delivery.provider.icon.prefix delivery.provider.icon.sizes  \\\n",
       "0  https://fastly.4sqi.net/img/general/cap/                     [40, 50]   \n",
       "1                                       NaN                          NaN   \n",
       "2                                       NaN                          NaN   \n",
       "\n",
       "                delivery.provider.icon.name         location.crossStreet  \n",
       "0  /delivery_provider_seamless_20180129.png                          NaN  \n",
       "1                                       NaN                          NaN  \n",
       "2                                       NaN  btwn Church St & W Broadway  \n",
       "\n",
       "[3 rows x 23 columns]"
      ]
     },
     "execution_count": 8,
     "metadata": {},
     "output_type": "execute_result"
    }
   ],
   "source": [
    "# assign relevant part of JSON to venues\n",
    "venues = results['response']['venues']\n",
    "\n",
    "# tranform venues into a dataframe\n",
    "dataframe = json_normalize(venues)\n",
    "dataframe.head()"
   ]
  },
  {
   "cell_type": "markdown",
   "metadata": {
    "button": false,
    "deletable": true,
    "new_sheet": false,
    "run_control": {
     "read_only": false
    }
   },
   "source": [
    "#### Define information of interest and filter dataframe"
   ]
  },
  {
   "cell_type": "code",
   "execution_count": 9,
   "metadata": {
    "button": false,
    "collapsed": false,
    "deletable": true,
    "jupyter": {
     "outputs_hidden": false
    },
    "new_sheet": false,
    "run_control": {
     "read_only": false
    },
    "scrolled": true
   },
   "outputs": [
    {
     "data": {
      "text/html": [
       "<div>\n",
       "<style scoped>\n",
       "    .dataframe tbody tr th:only-of-type {\n",
       "        vertical-align: middle;\n",
       "    }\n",
       "\n",
       "    .dataframe tbody tr th {\n",
       "        vertical-align: top;\n",
       "    }\n",
       "\n",
       "    .dataframe thead th {\n",
       "        text-align: right;\n",
       "    }\n",
       "</style>\n",
       "<table border=\"1\" class=\"dataframe\">\n",
       "  <thead>\n",
       "    <tr style=\"text-align: right;\">\n",
       "      <th></th>\n",
       "      <th>name</th>\n",
       "      <th>categories</th>\n",
       "      <th>address</th>\n",
       "      <th>lat</th>\n",
       "      <th>lng</th>\n",
       "      <th>labeledLatLngs</th>\n",
       "      <th>distance</th>\n",
       "      <th>postalCode</th>\n",
       "      <th>cc</th>\n",
       "      <th>city</th>\n",
       "      <th>state</th>\n",
       "      <th>country</th>\n",
       "      <th>formattedAddress</th>\n",
       "      <th>crossStreet</th>\n",
       "      <th>id</th>\n",
       "    </tr>\n",
       "  </thead>\n",
       "  <tbody>\n",
       "    <tr>\n",
       "      <td>0</td>\n",
       "      <td>Harry's Italian Pizza Bar</td>\n",
       "      <td>Pizza Place</td>\n",
       "      <td>225 Murray St</td>\n",
       "      <td>40.715218</td>\n",
       "      <td>-74.014739</td>\n",
       "      <td>[{'label': 'display', 'lat': 40.71521779064671...</td>\n",
       "      <td>58</td>\n",
       "      <td>10282</td>\n",
       "      <td>US</td>\n",
       "      <td>New York</td>\n",
       "      <td>NY</td>\n",
       "      <td>United States</td>\n",
       "      <td>[225 Murray St, New York, NY 10282, United Sta...</td>\n",
       "      <td>NaN</td>\n",
       "      <td>4fa862b3e4b0ebff2f749f06</td>\n",
       "    </tr>\n",
       "    <tr>\n",
       "      <td>1</td>\n",
       "      <td>Conca Cucina Italian Restaurant</td>\n",
       "      <td>Food</td>\n",
       "      <td>63 W Broadway</td>\n",
       "      <td>40.714484</td>\n",
       "      <td>-74.009806</td>\n",
       "      <td>[{'label': 'display', 'lat': 40.71448400000000...</td>\n",
       "      <td>469</td>\n",
       "      <td>10007</td>\n",
       "      <td>US</td>\n",
       "      <td>New York</td>\n",
       "      <td>NY</td>\n",
       "      <td>United States</td>\n",
       "      <td>[63 W Broadway, New York, NY 10007, United Sta...</td>\n",
       "      <td>NaN</td>\n",
       "      <td>4f3232e219836c91c7bfde94</td>\n",
       "    </tr>\n",
       "    <tr>\n",
       "      <td>2</td>\n",
       "      <td>Ecco</td>\n",
       "      <td>Italian Restaurant</td>\n",
       "      <td>124 Chambers St</td>\n",
       "      <td>40.715337</td>\n",
       "      <td>-74.008848</td>\n",
       "      <td>[{'label': 'display', 'lat': 40.71533713859952...</td>\n",
       "      <td>549</td>\n",
       "      <td>10007</td>\n",
       "      <td>US</td>\n",
       "      <td>New York</td>\n",
       "      <td>NY</td>\n",
       "      <td>United States</td>\n",
       "      <td>[124 Chambers St (btwn Church St &amp; W Broadway)...</td>\n",
       "      <td>btwn Church St &amp; W Broadway</td>\n",
       "      <td>3fd66200f964a520f4e41ee3</td>\n",
       "    </tr>\n",
       "  </tbody>\n",
       "</table>\n",
       "</div>"
      ],
      "text/plain": [
       "                              name          categories          address  \\\n",
       "0        Harry's Italian Pizza Bar         Pizza Place    225 Murray St   \n",
       "1  Conca Cucina Italian Restaurant                Food    63 W Broadway   \n",
       "2                             Ecco  Italian Restaurant  124 Chambers St   \n",
       "\n",
       "         lat        lng                                     labeledLatLngs  \\\n",
       "0  40.715218 -74.014739  [{'label': 'display', 'lat': 40.71521779064671...   \n",
       "1  40.714484 -74.009806  [{'label': 'display', 'lat': 40.71448400000000...   \n",
       "2  40.715337 -74.008848  [{'label': 'display', 'lat': 40.71533713859952...   \n",
       "\n",
       "   distance postalCode  cc      city state        country  \\\n",
       "0        58      10282  US  New York    NY  United States   \n",
       "1       469      10007  US  New York    NY  United States   \n",
       "2       549      10007  US  New York    NY  United States   \n",
       "\n",
       "                                    formattedAddress  \\\n",
       "0  [225 Murray St, New York, NY 10282, United Sta...   \n",
       "1  [63 W Broadway, New York, NY 10007, United Sta...   \n",
       "2  [124 Chambers St (btwn Church St & W Broadway)...   \n",
       "\n",
       "                   crossStreet                        id  \n",
       "0                          NaN  4fa862b3e4b0ebff2f749f06  \n",
       "1                          NaN  4f3232e219836c91c7bfde94  \n",
       "2  btwn Church St & W Broadway  3fd66200f964a520f4e41ee3  "
      ]
     },
     "execution_count": 9,
     "metadata": {},
     "output_type": "execute_result"
    }
   ],
   "source": [
    "# keep only columns that include venue name, and anything that is associated with location\n",
    "filtered_columns = ['name', 'categories'] + [col for col in dataframe.columns if col.startswith('location.')] + ['id']\n",
    "dataframe_filtered = dataframe.loc[:, filtered_columns]\n",
    "\n",
    "# function that extracts the category of the venue\n",
    "def get_category_type(row):\n",
    "    try:\n",
    "        categories_list = row['categories']\n",
    "    except:\n",
    "        categories_list = row['venue.categories']\n",
    "        \n",
    "    if len(categories_list) == 0:\n",
    "        return None\n",
    "    else:\n",
    "        return categories_list[0]['name']\n",
    "\n",
    "# filter the category for each row\n",
    "dataframe_filtered['categories'] = dataframe_filtered.apply(get_category_type, axis=1)\n",
    "\n",
    "# clean column names by keeping only last term\n",
    "dataframe_filtered.columns = [column.split('.')[-1] for column in dataframe_filtered.columns]\n",
    "\n",
    "dataframe_filtered"
   ]
  },
  {
   "cell_type": "markdown",
   "metadata": {
    "button": false,
    "deletable": true,
    "new_sheet": false,
    "run_control": {
     "read_only": false
    }
   },
   "source": [
    "#### Let's visualize the Italian restaurants that are nearby"
   ]
  },
  {
   "cell_type": "code",
   "execution_count": 10,
   "metadata": {
    "button": false,
    "collapsed": false,
    "deletable": true,
    "jupyter": {
     "outputs_hidden": false
    },
    "new_sheet": false,
    "run_control": {
     "read_only": false
    }
   },
   "outputs": [
    {
     "data": {
      "text/plain": [
       "0          Harry's Italian Pizza Bar\n",
       "1    Conca Cucina Italian Restaurant\n",
       "2                               Ecco\n",
       "Name: name, dtype: object"
      ]
     },
     "execution_count": 10,
     "metadata": {},
     "output_type": "execute_result"
    }
   ],
   "source": [
    "dataframe_filtered.name"
   ]
  },
  {
   "cell_type": "code",
   "execution_count": 23,
   "metadata": {
    "button": false,
    "collapsed": false,
    "deletable": true,
    "jupyter": {
     "outputs_hidden": false
    },
    "new_sheet": false,
    "run_control": {
     "read_only": false
    }
   },
   "outputs": [
    {
     "data": {
      "text/html": [
       "<div style=\"width:100%;\"><div style=\"position:relative;width:100%;height:0;padding-bottom:60%;\"><iframe src=\"data:text/html;charset=utf-8;base64,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\" style=\"position:absolute;width:100%;height:100%;left:0;top:0;border:none !important;\" allowfullscreen webkitallowfullscreen mozallowfullscreen></iframe></div></div>"
      ],
      "text/plain": [
       "<folium.folium.Map at 0x7f332c155c90>"
      ]
     },
     "execution_count": 23,
     "metadata": {},
     "output_type": "execute_result"
    }
   ],
   "source": [
    "venues_map = folium.Map(location=[latitude, longitude], zoom_start=15) # generate map centred around the Conrad Hotel\n",
    "\n",
    "# add a red circle marker to represent the Conrad Hotel\n",
    "folium.CircleMarker(\n",
    "    [latitude, longitude],\n",
    "    radius=10,\n",
    "    color='red',\n",
    "    popup='Conrad Hotel',\n",
    "    fill = True,\n",
    "    fill_color = 'red',\n",
    "    fill_opacity = 0.6\n",
    ").add_to(venues_map)\n",
    "\n",
    "orig = zip(dataframe_filtered.lat, dataframe_filtered.lng, dataframe_filtered.categories)\n",
    "\n",
    "# add the Italian restaurants as blue circle markers\n",
    "for lat, lng, label in orig:\n",
    "    folium.CircleMarker(\n",
    "        [lat, lng],\n",
    "        radius=5,\n",
    "        color='blue',\n",
    "        popup=label,\n",
    "        fill = True,\n",
    "        fill_color='blue',\n",
    "        fill_opacity=0.6\n",
    "    ).add_to(venues_map)\n",
    "\n",
    "# display map\n",
    "venues_map"
   ]
  },
  {
   "cell_type": "markdown",
   "metadata": {
    "button": false,
    "deletable": true,
    "new_sheet": false,
    "run_control": {
     "read_only": false
    }
   },
   "source": [
    "   "
   ]
  },
  {
   "cell_type": "markdown",
   "metadata": {
    "button": false,
    "deletable": true,
    "new_sheet": false,
    "run_control": {
     "read_only": false
    }
   },
   "source": [
    "<a id=\"item2\"></a>"
   ]
  },
  {
   "cell_type": "markdown",
   "metadata": {
    "button": false,
    "deletable": true,
    "new_sheet": false,
    "run_control": {
     "read_only": false
    }
   },
   "source": [
    "## 2. Explore a Given Venue\n",
    "> `https://api.foursquare.com/v2/venues/`**VENUE_ID**`?client_id=`**CLIENT_ID**`&client_secret=`**CLIENT_SECRET**`&v=`**VERSION**"
   ]
  },
  {
   "cell_type": "markdown",
   "metadata": {
    "button": false,
    "deletable": true,
    "new_sheet": false,
    "run_control": {
     "read_only": false
    }
   },
   "source": [
    "### A. Let's explore the closest Italian restaurant -- _Harry's Italian Pizza Bar_"
   ]
  },
  {
   "cell_type": "code",
   "execution_count": 26,
   "metadata": {
    "button": false,
    "collapsed": false,
    "deletable": true,
    "jupyter": {
     "outputs_hidden": false
    },
    "new_sheet": false,
    "run_control": {
     "read_only": false
    }
   },
   "outputs": [
    {
     "data": {
      "text/plain": [
       "'https://api.foursquare.com/v2/venues/4fa862b3e4b0ebff2f749f06?client_id=L0TXGO1IZHVWB54RS4IQBCO0OTRYYLX3MRYDMDMEHYWR3KV0&client_secret=F2YLMRERUVAJ4AMQLE4HNW5U3JDTAH35054EPWEYPLLT5VQ4&v=20180604'"
      ]
     },
     "execution_count": 26,
     "metadata": {},
     "output_type": "execute_result"
    }
   ],
   "source": [
    "venue_id = dataframe_filtered.iloc[0].id\n",
    "# venue_id = '4fa862b3e4b0ebff2f749f06' # ID of Harry's Italian Pizza Bar\n",
    "url = 'https://api.foursquare.com/v2/venues/{}?client_id={}&client_secret={}&v={}'.format(venue_id, CLIENT_ID, CLIENT_SECRET, VERSION)\n",
    "url"
   ]
  },
  {
   "cell_type": "markdown",
   "metadata": {
    "button": false,
    "deletable": true,
    "new_sheet": false,
    "run_control": {
     "read_only": false
    }
   },
   "source": [
    "#### Send GET request for result"
   ]
  },
  {
   "cell_type": "code",
   "execution_count": 30,
   "metadata": {
    "button": false,
    "collapsed": false,
    "deletable": true,
    "jupyter": {
     "outputs_hidden": false
    },
    "new_sheet": false,
    "run_control": {
     "read_only": false
    }
   },
   "outputs": [
    {
     "name": "stdout",
     "output_type": "stream",
     "text": [
      "{\n",
      "  \"meta\": {\n",
      "    \"code\": 200,\n",
      "    \"requestId\": \"5e5670f1b57e88001b1fd565\"\n",
      "  },\n",
      "  \"response\": {\n",
      "    \"venue\": {\n",
      "      \"id\": \"4fa862b3e4b0ebff2f749f06\",\n",
      "      \"name\": \"Harry's Italian Pizza Bar\",\n",
      "      \"contact\": {\n",
      "        \"phone\": \"2126081007\",\n",
      "        \"formattedPhone\": \"(212) 608-1007\"\n",
      "      },\n",
      "      \"location\": {\n",
      "        \"address\": \"225 Murray St\",\n",
      "        \"lat\": 40.71521779064671,\n",
      "        \"lng\": -74.01473940209351,\n",
      "        \"labeledLatLngs\": [\n",
      "          {\n",
      "            \"label\": \"display\",\n",
      "            \"lat\": 40.71521779064671,\n",
      "            \"lng\": -74.01473940209351\n",
      "          }\n",
      "        ],\n",
      "        \"postalCode\": \"10282\",\n",
      "        \"cc\": \"US\",\n",
      "        \"city\": \"New York\",\n",
      "        \"state\": \"NY\",\n",
      "        \"country\": \"United States\",\n",
      "        \"formattedAddress\": [\n",
      "          \"225 Murray St\",\n",
      "          \"New York, NY 10282\",\n",
      "          \"United States\"\n",
      "        ]\n",
      "      },\n",
      "      \"canonicalUrl\": \"https://foursquare.com/v/harrys-italian-pizza-bar/4fa862b3e4b0ebff2f749f06\",\n",
      "      \"categories\": [\n",
      "        {\n",
      "          \"id\": \"4bf58dd8d48988d1ca941735\",\n",
      "          \"name\": \"Pizza Place\",\n",
      "          \"pluralName\": \"Pizza Places\",\n",
      "          \"shortName\": \"Pizza\",\n",
      "          \"icon\": {\n",
      "            \"prefix\": \"https://ss3.4sqi.net/img/categories_v2/food/pizza_\",\n",
      "            \"suffix\": \".png\"\n",
      "          },\n",
      "          \"primary\": true\n",
      "        },\n",
      "        {\n",
      "          \"id\": \"4bf58dd8d48988d110941735\",\n",
      "          \"name\": \"Italian Restaurant\",\n",
      "          \"pluralName\": \"Italian Restaurants\",\n",
      "          \"shortName\": \"Italian\",\n",
      "          \"icon\": {\n",
      "            \"prefix\": \"https://ss3.4sqi.net/img/categories_v2/food/italian_\",\n",
      "            \"suffix\": \".png\"\n",
      "          }\n",
      "        }\n",
      "      ],\n",
      "      \"verified\": false,\n",
      "      \"stats\": {\n",
      "        \"tipCount\": 57\n",
      "      },\n",
      "      \"url\": \"http://harrysitalian.com\",\n",
      "      \"price\": {\n",
      "        \"tier\": 2,\n",
      "        \"message\": \"Moderate\",\n",
      "        \"currency\": \"$\"\n",
      "      },\n",
      "      \"hasMenu\": true,\n",
      "      \"likes\": {\n",
      "        \"count\": 120,\n",
      "        \"groups\": [\n",
      "          {\n",
      "            \"type\": \"others\",\n",
      "            \"count\": 120,\n",
      "            \"items\": []\n",
      "          }\n",
      "        ],\n",
      "        \"summary\": \"120 Likes\"\n",
      "      },\n",
      "      \"dislike\": false,\n",
      "      \"ok\": false,\n",
      "      \"rating\": 7.0,\n",
      "      \"ratingColor\": \"C5DE35\",\n",
      "      \"ratingSignals\": 212,\n",
      "      \"delivery\": {\n",
      "        \"id\": \"294544\",\n",
      "        \"url\": \"https://www.seamless.com/menu/harrys-italian-pizza-bar-225-murray-st-new-york/294544?affiliate=1131&utm_source=foursquare-affiliate-network&utm_medium=affiliate&utm_campaign=1131&utm_content=294544\",\n",
      "        \"provider\": {\n",
      "          \"name\": \"seamless\",\n",
      "          \"icon\": {\n",
      "            \"prefix\": \"https://fastly.4sqi.net/img/general/cap/\",\n",
      "            \"sizes\": [\n",
      "              40,\n",
      "              50\n",
      "            ],\n",
      "            \"name\": \"/delivery_provider_seamless_20180129.png\"\n",
      "          }\n",
      "        }\n",
      "      },\n",
      "      \"menu\": {\n",
      "        \"type\": \"Menu\",\n",
      "        \"label\": \"Menu\",\n",
      "        \"anchor\": \"View Menu\",\n",
      "        \"url\": \"https://foursquare.com/v/harrys-italian-pizza-bar/4fa862b3e4b0ebff2f749f06/menu\",\n",
      "        \"mobileUrl\": \"https://foursquare.com/v/4fa862b3e4b0ebff2f749f06/device_menu\"\n",
      "      },\n",
      "      \"allowMenuUrlEdit\": true,\n",
      "      \"beenHere\": {\n",
      "        \"count\": 0,\n",
      "        \"unconfirmedCount\": 0,\n",
      "        \"marked\": false,\n",
      "        \"lastCheckinExpiredAt\": 0\n",
      "      },\n",
      "      \"specials\": {\n",
      "        \"count\": 0,\n",
      "        \"items\": []\n",
      "      },\n",
      "      \"photos\": {\n",
      "        \"count\": 147,\n",
      "        \"groups\": [\n",
      "          {\n",
      "            \"type\": \"venue\",\n",
      "            \"name\": \"Venue photos\",\n",
      "            \"count\": 147,\n",
      "            \"items\": [\n",
      "              {\n",
      "                \"id\": \"4fad980de4b091b4626c3633\",\n",
      "                \"createdAt\": 1336776717,\n",
      "                \"source\": {\n",
      "                  \"name\": \"Foursquare for Android\",\n",
      "                  \"url\": \"https://foursquare.com/download/#/android\"\n",
      "                },\n",
      "                \"prefix\": \"https://fastly.4sqi.net/img/general/\",\n",
      "                \"suffix\": \"/ya1iQFI7pLjuIJp1PGDKlrZS3OJdHCF7tpILMmjv_2w.jpg\",\n",
      "                \"width\": 480,\n",
      "                \"height\": 640,\n",
      "                \"user\": {\n",
      "                  \"id\": \"13676709\",\n",
      "                  \"firstName\": \"Leony\",\n",
      "                  \"lastName\": \"N\",\n",
      "                  \"photo\": {\n",
      "                    \"prefix\": \"https://fastly.4sqi.net/img/user/\",\n",
      "                    \"suffix\": \"/T0ANFNGNMCHUDEUE.jpg\"\n",
      "                  }\n",
      "                },\n",
      "                \"visibility\": \"public\"\n",
      "              }\n",
      "            ]\n",
      "          }\n",
      "        ]\n",
      "      },\n",
      "      \"reasons\": {\n",
      "        \"count\": 1,\n",
      "        \"items\": [\n",
      "          {\n",
      "            \"summary\": \"Lots of people like this place\",\n",
      "            \"type\": \"general\",\n",
      "            \"reasonName\": \"rawLikesReason\"\n",
      "          }\n",
      "        ]\n",
      "      },\n",
      "      \"hereNow\": {\n",
      "        \"count\": 0,\n",
      "        \"summary\": \"Nobody here\",\n",
      "        \"groups\": []\n",
      "      },\n",
      "      \"createdAt\": 1336435379,\n",
      "      \"tips\": {\n",
      "        \"count\": 57,\n",
      "        \"groups\": [\n",
      "          {\n",
      "            \"type\": \"others\",\n",
      "            \"name\": \"All tips\",\n",
      "            \"count\": 57,\n",
      "            \"items\": [\n",
      "              {\n",
      "                \"id\": \"53d27909498e0523841340b6\",\n",
      "                \"createdAt\": 1406302473,\n",
      "                \"text\": \"Harry's Italian Pizza bar is known for it's amazing pizza, but did you know that the brunches here are amazing too? Try the Nutella French toast and we know you'll be sold.\",\n",
      "                \"type\": \"user\",\n",
      "                \"canonicalUrl\": \"https://foursquare.com/item/53d27909498e0523841340b6\",\n",
      "                \"lang\": \"en\",\n",
      "                \"likes\": {\n",
      "                  \"count\": 4,\n",
      "                  \"groups\": [\n",
      "                    {\n",
      "                      \"type\": \"others\",\n",
      "                      \"count\": 4,\n",
      "                      \"items\": [\n",
      "                        {\n",
      "                          \"id\": \"369426\",\n",
      "                          \"firstName\": \"P.\",\n",
      "                          \"lastName\": \"M\",\n",
      "                          \"photo\": {\n",
      "                            \"prefix\": \"https://fastly.4sqi.net/img/user/\",\n",
      "                            \"suffix\": \"/JPQYUWJKUT0H2OO4.jpg\"\n",
      "                          }\n",
      "                        },\n",
      "                        {\n",
      "                          \"id\": \"87587879\",\n",
      "                          \"firstName\": \"Diane\",\n",
      "                          \"lastName\": \"D\",\n",
      "                          \"photo\": {\n",
      "                            \"prefix\": \"https://fastly.4sqi.net/img/user/\",\n",
      "                            \"suffix\": \"/87587879-ESLRSZLQ2CBE2P4W.jpg\"\n",
      "                          }\n",
      "                        },\n",
      "                        {\n",
      "                          \"id\": \"87591341\",\n",
      "                          \"firstName\": \"Tim\",\n",
      "                          \"lastName\": \"S\",\n",
      "                          \"photo\": {\n",
      "                            \"prefix\": \"https://fastly.4sqi.net/img/user/\",\n",
      "                            \"suffix\": \"/-Z4YK4VKE0JSVXIY1.jpg\"\n",
      "                          }\n",
      "                        },\n",
      "                        {\n",
      "                          \"id\": \"87473404\",\n",
      "                          \"firstName\": \"TenantKing.com\",\n",
      "                          \"photo\": {\n",
      "                            \"prefix\": \"https://fastly.4sqi.net/img/user/\",\n",
      "                            \"suffix\": \"/87473404-HI5DTBTK0HX401CA.png\"\n",
      "                          },\n",
      "                          \"type\": \"page\"\n",
      "                        }\n",
      "                      ]\n",
      "                    }\n",
      "                  ],\n",
      "                  \"summary\": \"4 likes\"\n",
      "                },\n",
      "                \"logView\": true,\n",
      "                \"agreeCount\": 4,\n",
      "                \"disagreeCount\": 0,\n",
      "                \"todo\": {\n",
      "                  \"count\": 0\n",
      "                },\n",
      "                \"user\": {\n",
      "                  \"id\": \"87473404\",\n",
      "                  \"firstName\": \"TenantKing.com\",\n",
      "                  \"photo\": {\n",
      "                    \"prefix\": \"https://fastly.4sqi.net/img/user/\",\n",
      "                    \"suffix\": \"/87473404-HI5DTBTK0HX401CA.png\"\n",
      "                  },\n",
      "                  \"type\": \"page\"\n",
      "                }\n",
      "              }\n",
      "            ]\n",
      "          }\n",
      "        ]\n",
      "      },\n",
      "      \"shortUrl\": \"http://4sq.com/JNblHV\",\n",
      "      \"timeZone\": \"America/New_York\",\n",
      "      \"listed\": {\n",
      "        \"count\": 54,\n",
      "        \"groups\": [\n",
      "          {\n",
      "            \"type\": \"others\",\n",
      "            \"name\": \"Lists from other people\",\n",
      "            \"count\": 54,\n",
      "            \"items\": [\n",
      "              {\n",
      "                \"id\": \"4fa32fd0e4b04193744746b1\",\n",
      "                \"name\": \"Manhattan Haunts\",\n",
      "                \"description\": \"\",\n",
      "                \"type\": \"others\",\n",
      "                \"user\": {\n",
      "                  \"id\": \"24592223\",\n",
      "                  \"firstName\": \"Becca\",\n",
      "                  \"lastName\": \"M\",\n",
      "                  \"photo\": {\n",
      "                    \"prefix\": \"https://fastly.4sqi.net/img/user/\",\n",
      "                    \"suffix\": \"/24592223-RAW2UYM0GIB1U40K.jpg\"\n",
      "                  }\n",
      "                },\n",
      "                \"editable\": false,\n",
      "                \"public\": true,\n",
      "                \"collaborative\": false,\n",
      "                \"url\": \"/becca_mcarthur/list/manhattan-haunts\",\n",
      "                \"canonicalUrl\": \"https://foursquare.com/becca_mcarthur/list/manhattan-haunts\",\n",
      "                \"createdAt\": 1336094672,\n",
      "                \"updatedAt\": 1380845377,\n",
      "                \"photo\": {\n",
      "                  \"id\": \"4e8cc9461081e3b3544e12e5\",\n",
      "                  \"createdAt\": 1317849414,\n",
      "                  \"prefix\": \"https://fastly.4sqi.net/img/general/\",\n",
      "                  \"suffix\": \"/0NLVU2HC1JF4DXIMKWUFW3QBUT31DC11EFNYYHMJG3NDWAPS.jpg\",\n",
      "                  \"width\": 492,\n",
      "                  \"height\": 330,\n",
      "                  \"user\": {\n",
      "                    \"id\": \"742542\",\n",
      "                    \"firstName\": \"Time Out New York\",\n",
      "                    \"photo\": {\n",
      "                      \"prefix\": \"https://fastly.4sqi.net/img/user/\",\n",
      "                      \"suffix\": \"/XXHKCBSQHBORZNSR.jpg\"\n",
      "                    },\n",
      "                    \"type\": \"page\"\n",
      "                  },\n",
      "                  \"visibility\": \"public\"\n",
      "                },\n",
      "                \"followers\": {\n",
      "                  \"count\": 22\n",
      "                },\n",
      "                \"listItems\": {\n",
      "                  \"count\": 187,\n",
      "                  \"items\": [\n",
      "                    {\n",
      "                      \"id\": \"v4fa862b3e4b0ebff2f749f06\",\n",
      "                      \"createdAt\": 1342934485\n",
      "                    }\n",
      "                  ]\n",
      "                }\n",
      "              },\n",
      "              {\n",
      "                \"id\": \"4fae817be4b085f6b2a74d19\",\n",
      "                \"name\": \"USA NYC MAN FiDi\",\n",
      "                \"description\": \"Where to go for decent eats in the restaurant wasteland of Downtown NYC aka FiDi, along with Tribeca & Battery Park City.\",\n",
      "                \"type\": \"others\",\n",
      "                \"user\": {\n",
      "                  \"id\": \"12113441\",\n",
      "                  \"firstName\": \"Kino\",\n",
      "                  \"photo\": {\n",
      "                    \"prefix\": \"https://fastly.4sqi.net/img/user/\",\n",
      "                    \"suffix\": \"/12113441-K5HTHFLU2MUCM0CM.jpg\"\n",
      "                  }\n",
      "                },\n",
      "                \"editable\": false,\n",
      "                \"public\": true,\n",
      "                \"collaborative\": false,\n",
      "                \"url\": \"/kinosfault/list/usa-nyc-man-fidi\",\n",
      "                \"canonicalUrl\": \"https://foursquare.com/kinosfault/list/usa-nyc-man-fidi\",\n",
      "                \"createdAt\": 1336836475,\n",
      "                \"updatedAt\": 1556754919,\n",
      "                \"photo\": {\n",
      "                  \"id\": \"55984992498e13ba75e353bb\",\n",
      "                  \"createdAt\": 1436043666,\n",
      "                  \"prefix\": \"https://fastly.4sqi.net/img/general/\",\n",
      "                  \"suffix\": \"/12113441_iOa6Uh-Xi8bhj2-gpzkkw8MKiAIs7RmOcz_RM7m8ink.jpg\",\n",
      "                  \"width\": 540,\n",
      "                  \"height\": 960,\n",
      "                  \"user\": {\n",
      "                    \"id\": \"12113441\",\n",
      "                    \"firstName\": \"Kino\",\n",
      "                    \"photo\": {\n",
      "                      \"prefix\": \"https://fastly.4sqi.net/img/user/\",\n",
      "                      \"suffix\": \"/12113441-K5HTHFLU2MUCM0CM.jpg\"\n",
      "                    }\n",
      "                  },\n",
      "                  \"visibility\": \"public\"\n",
      "                },\n",
      "                \"followers\": {\n",
      "                  \"count\": 20\n",
      "                },\n",
      "                \"listItems\": {\n",
      "                  \"count\": 273,\n",
      "                  \"items\": [\n",
      "                    {\n",
      "                      \"id\": \"v4fa862b3e4b0ebff2f749f06\",\n",
      "                      \"createdAt\": 1373909433\n",
      "                    }\n",
      "                  ]\n",
      "                }\n",
      "              },\n",
      "              {\n",
      "                \"id\": \"4fddeff0e4b0e078037ac0d3\",\n",
      "                \"name\": \"NYC Resturants\",\n",
      "                \"description\": \"\",\n",
      "                \"type\": \"others\",\n",
      "                \"user\": {\n",
      "                  \"id\": \"21563126\",\n",
      "                  \"firstName\": \"Richard\",\n",
      "                  \"lastName\": \"R\",\n",
      "                  \"photo\": {\n",
      "                    \"prefix\": \"https://fastly.4sqi.net/img/user/\",\n",
      "                    \"suffix\": \"/21563126_v05J1KPw_SVj6Ehq9g8B9jeAGjFUMsU5QGl-NZ8inUQ7pKQm5bKplW37EmR7jS2A7GYPBBAtl.jpg\"\n",
      "                  }\n",
      "                },\n",
      "                \"editable\": false,\n",
      "                \"public\": true,\n",
      "                \"collaborative\": true,\n",
      "                \"url\": \"/rickr7/list/nyc-resturants\",\n",
      "                \"canonicalUrl\": \"https://foursquare.com/rickr7/list/nyc-resturants\",\n",
      "                \"createdAt\": 1339944944,\n",
      "                \"updatedAt\": 1582232663,\n",
      "                \"photo\": {\n",
      "                  \"id\": \"5072dd13e4b09145cdf782d1\",\n",
      "                  \"createdAt\": 1349704979,\n",
      "                  \"prefix\": \"https://fastly.4sqi.net/img/general/\",\n",
      "                  \"suffix\": \"/208205_fGh2OuAZ9qJ4agbAA5wMVNOSIm9kNUlRtNwj1N-adqg.jpg\",\n",
      "                  \"width\": 800,\n",
      "                  \"height\": 800,\n",
      "                  \"user\": {\n",
      "                    \"id\": \"208205\",\n",
      "                    \"firstName\": \"Thalia\",\n",
      "                    \"lastName\": \"K\",\n",
      "                    \"photo\": {\n",
      "                      \"prefix\": \"https://fastly.4sqi.net/img/user/\",\n",
      "                      \"suffix\": \"/SNOOLCAW2AG04ZKD.jpg\"\n",
      "                    }\n",
      "                  },\n",
      "                  \"visibility\": \"public\"\n",
      "                },\n",
      "                \"followers\": {\n",
      "                  \"count\": 12\n",
      "                },\n",
      "                \"listItems\": {\n",
      "                  \"count\": 194,\n",
      "                  \"items\": [\n",
      "                    {\n",
      "                      \"id\": \"v4fa862b3e4b0ebff2f749f06\",\n",
      "                      \"createdAt\": 1581655865\n",
      "                    }\n",
      "                  ]\n",
      "                }\n",
      "              },\n",
      "              {\n",
      "                \"id\": \"5266c68a498e7c667807fe09\",\n",
      "                \"name\": \"Foodie Love in NY - 02\",\n",
      "                \"description\": \"\",\n",
      "                \"type\": \"others\",\n",
      "                \"user\": {\n",
      "                  \"id\": \"547977\",\n",
      "                  \"firstName\": \"WiLL\",\n",
      "                  \"photo\": {\n",
      "                    \"prefix\": \"https://fastly.4sqi.net/img/user/\",\n",
      "                    \"suffix\": \"/-Q5NYGDMFDMOITQRR.jpg\"\n",
      "                  }\n",
      "                },\n",
      "                \"editable\": false,\n",
      "                \"public\": true,\n",
      "                \"collaborative\": false,\n",
      "                \"url\": \"/sweetiewill/list/foodie-love-in-ny--02\",\n",
      "                \"canonicalUrl\": \"https://foursquare.com/sweetiewill/list/foodie-love-in-ny--02\",\n",
      "                \"createdAt\": 1382467210,\n",
      "                \"updatedAt\": 1391995585,\n",
      "                \"followers\": {\n",
      "                  \"count\": 7\n",
      "                },\n",
      "                \"listItems\": {\n",
      "                  \"count\": 200,\n",
      "                  \"items\": [\n",
      "                    {\n",
      "                      \"id\": \"v4fa862b3e4b0ebff2f749f06\",\n",
      "                      \"createdAt\": 1386809936\n",
      "                    }\n",
      "                  ]\n",
      "                }\n",
      "              }\n",
      "            ]\n",
      "          }\n",
      "        ]\n",
      "      },\n",
      "      \"hours\": {\n",
      "        \"status\": \"Closed until 11:30 AM\",\n",
      "        \"richStatus\": {\n",
      "          \"entities\": [],\n",
      "          \"text\": \"Closed until 11:30 AM\"\n",
      "        },\n",
      "        \"isOpen\": false,\n",
      "        \"isLocalHoliday\": false,\n",
      "        \"dayData\": [],\n",
      "        \"timeframes\": [\n",
      "          {\n",
      "            \"days\": \"Mon\\u2013Wed, Sun\",\n",
      "            \"includesToday\": true,\n",
      "            \"open\": [\n",
      "              {\n",
      "                \"renderedTime\": \"11:30 AM\\u201311:00 PM\"\n",
      "              }\n",
      "            ],\n",
      "            \"segments\": []\n",
      "          },\n",
      "          {\n",
      "            \"days\": \"Thu\\u2013Sat\",\n",
      "            \"open\": [\n",
      "              {\n",
      "                \"renderedTime\": \"11:30 AM\\u2013Midnight\"\n",
      "              }\n",
      "            ],\n",
      "            \"segments\": []\n",
      "          }\n",
      "        ]\n",
      "      },\n",
      "      \"popular\": {\n",
      "        \"isOpen\": false,\n",
      "        \"isLocalHoliday\": false,\n",
      "        \"timeframes\": [\n",
      "          {\n",
      "            \"days\": \"Today\",\n",
      "            \"includesToday\": true,\n",
      "            \"open\": [\n",
      "              {\n",
      "                \"renderedTime\": \"Noon\\u20132:00 PM\"\n",
      "              },\n",
      "              {\n",
      "                \"renderedTime\": \"5:00 PM\\u201310:00 PM\"\n",
      "              }\n",
      "            ],\n",
      "            \"segments\": []\n",
      "          },\n",
      "          {\n",
      "            \"days\": \"Thu\",\n",
      "            \"open\": [\n",
      "              {\n",
      "                \"renderedTime\": \"Noon\\u20132:00 PM\"\n",
      "              },\n",
      "              {\n",
      "                \"renderedTime\": \"5:00 PM\\u201310:00 PM\"\n",
      "              }\n",
      "            ],\n",
      "            \"segments\": []\n",
      "          },\n",
      "          {\n",
      "            \"days\": \"Fri\",\n",
      "            \"open\": [\n",
      "              {\n",
      "                \"renderedTime\": \"Noon\\u20133:00 PM\"\n",
      "              },\n",
      "              {\n",
      "                \"renderedTime\": \"5:00 PM\\u201311:00 PM\"\n",
      "              }\n",
      "            ],\n",
      "            \"segments\": []\n",
      "          },\n",
      "          {\n",
      "            \"days\": \"Sat\",\n",
      "            \"open\": [\n",
      "              {\n",
      "                \"renderedTime\": \"Noon\\u201311:00 PM\"\n",
      "              }\n",
      "            ],\n",
      "            \"segments\": []\n",
      "          },\n",
      "          {\n",
      "            \"days\": \"Sun\",\n",
      "            \"open\": [\n",
      "              {\n",
      "                \"renderedTime\": \"Noon\\u20133:00 PM\"\n",
      "              },\n",
      "              {\n",
      "                \"renderedTime\": \"5:00 PM\\u20138:00 PM\"\n",
      "              }\n",
      "            ],\n",
      "            \"segments\": []\n",
      "          },\n",
      "          {\n",
      "            \"days\": \"Mon\",\n",
      "            \"open\": [\n",
      "              {\n",
      "                \"renderedTime\": \"Noon\\u20132:00 PM\"\n",
      "              },\n",
      "              {\n",
      "                \"renderedTime\": \"6:00 PM\\u20138:00 PM\"\n",
      "              }\n",
      "            ],\n",
      "            \"segments\": []\n",
      "          },\n",
      "          {\n",
      "            \"days\": \"Tue\",\n",
      "            \"open\": [\n",
      "              {\n",
      "                \"renderedTime\": \"Noon\\u20132:00 PM\"\n",
      "              },\n",
      "              {\n",
      "                \"renderedTime\": \"5:00 PM\\u201310:00 PM\"\n",
      "              }\n",
      "            ],\n",
      "            \"segments\": []\n",
      "          }\n",
      "        ]\n",
      "      },\n",
      "      \"pageUpdates\": {\n",
      "        \"count\": 0,\n",
      "        \"items\": []\n",
      "      },\n",
      "      \"inbox\": {\n",
      "        \"count\": 0,\n",
      "        \"items\": []\n",
      "      },\n",
      "      \"attributes\": {\n",
      "        \"groups\": [\n",
      "          {\n",
      "            \"type\": \"price\",\n",
      "            \"name\": \"Price\",\n",
      "            \"summary\": \"$$\",\n",
      "            \"count\": 1,\n",
      "            \"items\": [\n",
      "              {\n",
      "                \"displayName\": \"Price\",\n",
      "                \"displayValue\": \"$$\",\n",
      "                \"priceTier\": 2\n",
      "              }\n",
      "            ]\n",
      "          },\n",
      "          {\n",
      "            \"type\": \"payments\",\n",
      "            \"name\": \"Credit Cards\",\n",
      "            \"summary\": \"Credit Cards\",\n",
      "            \"count\": 7,\n",
      "            \"items\": [\n",
      "              {\n",
      "                \"displayName\": \"Credit Cards\",\n",
      "                \"displayValue\": \"Yes (incl. American Express)\"\n",
      "              }\n",
      "            ]\n",
      "          },\n",
      "          {\n",
      "            \"type\": \"outdoorSeating\",\n",
      "            \"name\": \"Outdoor Seating\",\n",
      "            \"summary\": \"Outdoor Seating\",\n",
      "            \"count\": 1,\n",
      "            \"items\": [\n",
      "              {\n",
      "                \"displayName\": \"Outdoor Seating\",\n",
      "                \"displayValue\": \"Yes\"\n",
      "              }\n",
      "            ]\n",
      "          },\n",
      "          {\n",
      "            \"type\": \"serves\",\n",
      "            \"name\": \"Menus\",\n",
      "            \"summary\": \"Happy Hour, Brunch & more\",\n",
      "            \"count\": 8,\n",
      "            \"items\": [\n",
      "              {\n",
      "                \"displayName\": \"Brunch\",\n",
      "                \"displayValue\": \"Brunch\"\n",
      "              },\n",
      "              {\n",
      "                \"displayName\": \"Lunch\",\n",
      "                \"displayValue\": \"Lunch\"\n",
      "              },\n",
      "              {\n",
      "                \"displayName\": \"Dinner\",\n",
      "                \"displayValue\": \"Dinner\"\n",
      "              },\n",
      "              {\n",
      "                \"displayName\": \"Happy Hour\",\n",
      "                \"displayValue\": \"Happy Hour\"\n",
      "              }\n",
      "            ]\n",
      "          },\n",
      "          {\n",
      "            \"type\": \"drinks\",\n",
      "            \"name\": \"Drinks\",\n",
      "            \"summary\": \"Beer, Wine & Cocktails\",\n",
      "            \"count\": 5,\n",
      "            \"items\": [\n",
      "              {\n",
      "                \"displayName\": \"Beer\",\n",
      "                \"displayValue\": \"Beer\"\n",
      "              },\n",
      "              {\n",
      "                \"displayName\": \"Wine\",\n",
      "                \"displayValue\": \"Wine\"\n",
      "              },\n",
      "              {\n",
      "                \"displayName\": \"Cocktails\",\n",
      "                \"displayValue\": \"Cocktails\"\n",
      "              }\n",
      "            ]\n",
      "          },\n",
      "          {\n",
      "            \"type\": \"diningOptions\",\n",
      "            \"name\": \"Dining Options\",\n",
      "            \"summary\": \"Delivery\",\n",
      "            \"count\": 5,\n",
      "            \"items\": [\n",
      "              {\n",
      "                \"displayName\": \"Delivery\",\n",
      "                \"displayValue\": \"Delivery\"\n",
      "              }\n",
      "            ]\n",
      "          }\n",
      "        ]\n",
      "      },\n",
      "      \"bestPhoto\": {\n",
      "        \"id\": \"4fad980de4b091b4626c3633\",\n",
      "        \"createdAt\": 1336776717,\n",
      "        \"source\": {\n",
      "          \"name\": \"Foursquare for Android\",\n",
      "          \"url\": \"https://foursquare.com/download/#/android\"\n",
      "        },\n",
      "        \"prefix\": \"https://fastly.4sqi.net/img/general/\",\n",
      "        \"suffix\": \"/ya1iQFI7pLjuIJp1PGDKlrZS3OJdHCF7tpILMmjv_2w.jpg\",\n",
      "        \"width\": 480,\n",
      "        \"height\": 640,\n",
      "        \"visibility\": \"public\"\n",
      "      },\n",
      "      \"colors\": {\n",
      "        \"highlightColor\": {\n",
      "          \"photoId\": \"4fad980de4b091b4626c3633\",\n",
      "          \"value\": -13619152\n",
      "        },\n",
      "        \"highlightTextColor\": {\n",
      "          \"photoId\": \"4fad980de4b091b4626c3633\",\n",
      "          \"value\": -1\n",
      "        },\n",
      "        \"algoVersion\": 3\n",
      "      }\n",
      "    }\n",
      "  }\n",
      "}\n",
      "dict_keys(['id', 'name', 'contact', 'location', 'canonicalUrl', 'categories', 'verified', 'stats', 'url', 'price', 'hasMenu', 'likes', 'dislike', 'ok', 'rating', 'ratingColor', 'ratingSignals', 'delivery', 'menu', 'allowMenuUrlEdit', 'beenHere', 'specials', 'photos', 'reasons', 'hereNow', 'createdAt', 'tips', 'shortUrl', 'timeZone', 'listed', 'hours', 'popular', 'pageUpdates', 'inbox', 'attributes', 'bestPhoto', 'colors'])\n"
     ]
    }
   ],
   "source": [
    "result = requests.get(url).json()\n",
    "print(json.dumps(result, indent=2))\n",
    "\n",
    "print(result['response']['venue'].keys())\n",
    "#result['response']['venue']"
   ]
  },
  {
   "cell_type": "markdown",
   "metadata": {
    "button": false,
    "deletable": true,
    "new_sheet": false,
    "run_control": {
     "read_only": false
    }
   },
   "source": [
    "### B. Get the venue's overall rating"
   ]
  },
  {
   "cell_type": "code",
   "execution_count": 31,
   "metadata": {
    "button": false,
    "collapsed": false,
    "deletable": true,
    "jupyter": {
     "outputs_hidden": false
    },
    "new_sheet": false,
    "run_control": {
     "read_only": false
    }
   },
   "outputs": [
    {
     "name": "stdout",
     "output_type": "stream",
     "text": [
      "7.0\n"
     ]
    }
   ],
   "source": [
    "try:\n",
    "    print(result['response']['venue']['rating'])\n",
    "except:\n",
    "    print('This venue has not been rated yet.')"
   ]
  },
  {
   "cell_type": "markdown",
   "metadata": {
    "button": false,
    "deletable": true,
    "new_sheet": false,
    "run_control": {
     "read_only": false
    }
   },
   "source": [
    "That is not a very good rating. Let's check the rating of the second closest Italian restaurant."
   ]
  },
  {
   "cell_type": "code",
   "execution_count": 34,
   "metadata": {
    "button": false,
    "collapsed": false,
    "deletable": true,
    "jupyter": {
     "outputs_hidden": false
    },
    "new_sheet": false,
    "run_control": {
     "read_only": false
    }
   },
   "outputs": [
    {
     "name": "stdout",
     "output_type": "stream",
     "text": [
      "This venue has not been rated yet.\n"
     ]
    }
   ],
   "source": [
    "venue_id = dataframe_filtered.iloc[1].id\n",
    "#venue_id = '4f3232e219836c91c7bfde94' # ID of Conca Cucina Italian Restaurant\n",
    "url = 'https://api.foursquare.com/v2/venues/{}?client_id={}&client_secret={}&v={}'.format(venue_id, CLIENT_ID, CLIENT_SECRET, VERSION)\n",
    "\n",
    "result = requests.get(url).json()\n",
    "try:\n",
    "    print(result['response']['venue']['rating'])\n",
    "except:\n",
    "    print('This venue has not been rated yet.')"
   ]
  },
  {
   "cell_type": "markdown",
   "metadata": {
    "button": false,
    "deletable": true,
    "new_sheet": false,
    "run_control": {
     "read_only": false
    }
   },
   "source": [
    "Since this restaurant has no ratings, let's check the third restaurant."
   ]
  },
  {
   "cell_type": "code",
   "execution_count": 35,
   "metadata": {
    "button": false,
    "collapsed": false,
    "deletable": true,
    "jupyter": {
     "outputs_hidden": false
    },
    "new_sheet": false,
    "run_control": {
     "read_only": false
    }
   },
   "outputs": [
    {
     "name": "stdout",
     "output_type": "stream",
     "text": [
      "3fd66200f964a520f4e41ee3\n",
      "7.4\n"
     ]
    }
   ],
   "source": [
    "\n",
    "venue_id = dataframe_filtered.iloc[-1].id\n",
    "\n",
    "# venue_id = '3fd66200f964a520f4e41ee3' # ID of Ecco\n",
    "url = 'https://api.foursquare.com/v2/venues/{}?client_id={}&client_secret={}&v={}'.format(venue_id, CLIENT_ID, CLIENT_SECRET, VERSION)\n",
    "\n",
    "result = requests.get(url).json()\n",
    "try:\n",
    "    print(result['response']['venue']['rating'])\n",
    "except:\n",
    "    print('This venue has not been rated yet.')"
   ]
  },
  {
   "cell_type": "markdown",
   "metadata": {
    "button": false,
    "deletable": true,
    "new_sheet": false,
    "run_control": {
     "read_only": false
    }
   },
   "source": [
    "Since this restaurant has a slightly better rating, let's explore it further."
   ]
  },
  {
   "cell_type": "markdown",
   "metadata": {
    "button": false,
    "deletable": true,
    "new_sheet": false,
    "run_control": {
     "read_only": false
    }
   },
   "source": [
    "### C. Get the number of tips"
   ]
  },
  {
   "cell_type": "code",
   "execution_count": 36,
   "metadata": {
    "button": false,
    "collapsed": false,
    "deletable": true,
    "jupyter": {
     "outputs_hidden": false
    },
    "new_sheet": false,
    "run_control": {
     "read_only": false
    }
   },
   "outputs": [
    {
     "data": {
      "text/plain": [
       "19"
      ]
     },
     "execution_count": 36,
     "metadata": {},
     "output_type": "execute_result"
    }
   ],
   "source": [
    "result['response']['venue']['tips']['count']"
   ]
  },
  {
   "cell_type": "markdown",
   "metadata": {
    "button": false,
    "deletable": true,
    "new_sheet": false,
    "run_control": {
     "read_only": false
    }
   },
   "source": [
    "### D. Get the venue's tips\n",
    "> `https://api.foursquare.com/v2/venues/`**VENUE_ID**`/tips?client_id=`**CLIENT_ID**`&client_secret=`**CLIENT_SECRET**`&v=`**VERSION**`&limit=`**LIMIT**"
   ]
  },
  {
   "cell_type": "markdown",
   "metadata": {
    "button": false,
    "deletable": true,
    "new_sheet": false,
    "run_control": {
     "read_only": false
    }
   },
   "source": [
    "#### Create URL and send GET request. Make sure to set limit to get all tips"
   ]
  },
  {
   "cell_type": "code",
   "execution_count": 42,
   "metadata": {
    "button": false,
    "collapsed": false,
    "deletable": true,
    "jupyter": {
     "outputs_hidden": false
    },
    "new_sheet": false,
    "run_control": {
     "read_only": false
    }
   },
   "outputs": [
    {
     "name": "stdout",
     "output_type": "stream",
     "text": [
      "{\n",
      "  \"meta\": {\n",
      "    \"code\": 200,\n",
      "    \"requestId\": \"5e56b538aba297001b086180\"\n",
      "  },\n",
      "  \"response\": {\n",
      "    \"tips\": {\n",
      "      \"count\": 19,\n",
      "      \"items\": [\n",
      "        {\n",
      "          \"id\": \"5ab1cb46c9a517174651d3fe\",\n",
      "          \"createdAt\": 1521601350,\n",
      "          \"text\": \"A+ Italian food! Trust me on this: my mom\\u2019s side of the family is 100% Italian. I was born and bred to know good pasta when I see it, and Ecco is one of my all-time NYC favorites\",\n",
      "          \"type\": \"user\",\n",
      "          \"canonicalUrl\": \"https://foursquare.com/item/5ab1cb46c9a517174651d3fe\",\n",
      "          \"lang\": \"en\",\n",
      "          \"likes\": {\n",
      "            \"count\": 0,\n",
      "            \"groups\": []\n",
      "          },\n",
      "          \"logView\": true,\n",
      "          \"agreeCount\": 4,\n",
      "          \"disagreeCount\": 0,\n",
      "          \"lastVoteText\": \"Upvoted Dec 14, 2019\",\n",
      "          \"lastUpvoteTimestamp\": 1576365433,\n",
      "          \"todo\": {\n",
      "            \"count\": 0\n",
      "          },\n",
      "          \"user\": {\n",
      "            \"id\": \"484542633\",\n",
      "            \"firstName\": \"Nick\",\n",
      "            \"lastName\": \"E\",\n",
      "            \"photo\": {\n",
      "              \"prefix\": \"https://fastly.4sqi.net/img/user/\",\n",
      "              \"suffix\": \"/484542633_unymNUmw_FdPs3GjXHujmHcYnN4hf8kEPADlOZuIrdcdm97VX3tFqL7fFNMNA_8Gl9NlU1GYg.jpg\"\n",
      "            }\n",
      "          },\n",
      "          \"authorInteractionType\": \"liked\"\n",
      "        }\n",
      "      ]\n",
      "    }\n",
      "  }\n",
      "}\n"
     ]
    }
   ],
   "source": [
    "## Ecco Tips\n",
    "limit = 20 # set limit to be greater than or equal to the total number of tips\n",
    "url = 'https://api.foursquare.com/v2/venues/{}/tips?client_id={}&client_secret={}&v={}&limit={}'.\\\n",
    "format(venue_id, CLIENT_ID, CLIENT_SECRET, VERSION, limit)\n",
    "\n",
    "results = requests.get(url).json()\n",
    "print(json.dumps(results, indent=2))\n",
    "\n",
    "#results"
   ]
  },
  {
   "cell_type": "markdown",
   "metadata": {
    "button": false,
    "deletable": true,
    "new_sheet": false,
    "run_control": {
     "read_only": false
    }
   },
   "source": [
    "#### Get tips and list of associated features"
   ]
  },
  {
   "cell_type": "code",
   "execution_count": 43,
   "metadata": {
    "button": false,
    "collapsed": false,
    "deletable": true,
    "jupyter": {
     "outputs_hidden": false
    },
    "new_sheet": false,
    "run_control": {
     "read_only": false
    }
   },
   "outputs": [
    {
     "name": "stdout",
     "output_type": "stream",
     "text": [
      "{\n",
      "  \"id\": \"5ab1cb46c9a517174651d3fe\",\n",
      "  \"createdAt\": 1521601350,\n",
      "  \"text\": \"A+ Italian food! Trust me on this: my mom\\u2019s side of the family is 100% Italian. I was born and bred to know good pasta when I see it, and Ecco is one of my all-time NYC favorites\",\n",
      "  \"type\": \"user\",\n",
      "  \"canonicalUrl\": \"https://foursquare.com/item/5ab1cb46c9a517174651d3fe\",\n",
      "  \"lang\": \"en\",\n",
      "  \"likes\": {\n",
      "    \"count\": 0,\n",
      "    \"groups\": []\n",
      "  },\n",
      "  \"logView\": true,\n",
      "  \"agreeCount\": 4,\n",
      "  \"disagreeCount\": 0,\n",
      "  \"lastVoteText\": \"Upvoted Dec 14, 2019\",\n",
      "  \"lastUpvoteTimestamp\": 1576365433,\n",
      "  \"todo\": {\n",
      "    \"count\": 0\n",
      "  },\n",
      "  \"user\": {\n",
      "    \"id\": \"484542633\",\n",
      "    \"firstName\": \"Nick\",\n",
      "    \"lastName\": \"E\",\n",
      "    \"photo\": {\n",
      "      \"prefix\": \"https://fastly.4sqi.net/img/user/\",\n",
      "      \"suffix\": \"/484542633_unymNUmw_FdPs3GjXHujmHcYnN4hf8kEPADlOZuIrdcdm97VX3tFqL7fFNMNA_8Gl9NlU1GYg.jpg\"\n",
      "    }\n",
      "  },\n",
      "  \"authorInteractionType\": \"liked\"\n",
      "}\n"
     ]
    },
    {
     "data": {
      "text/plain": [
       "dict_keys(['id', 'createdAt', 'text', 'type', 'canonicalUrl', 'lang', 'likes', 'logView', 'agreeCount', 'disagreeCount', 'lastVoteText', 'lastUpvoteTimestamp', 'todo', 'user', 'authorInteractionType'])"
      ]
     },
     "execution_count": 43,
     "metadata": {},
     "output_type": "execute_result"
    }
   ],
   "source": [
    "tips = results['response']['tips']['items']\n",
    "\n",
    "tip = results['response']['tips']['items'][0]\n",
    "print(json.dumps(tip, indent=2))\n",
    "\n",
    "tip.keys()"
   ]
  },
  {
   "cell_type": "markdown",
   "metadata": {
    "button": false,
    "deletable": true,
    "new_sheet": false,
    "run_control": {
     "read_only": false
    }
   },
   "source": [
    "#### Format column width and display all tips"
   ]
  },
  {
   "cell_type": "code",
   "execution_count": 44,
   "metadata": {
    "button": false,
    "collapsed": false,
    "deletable": true,
    "jupyter": {
     "outputs_hidden": false
    },
    "new_sheet": false,
    "run_control": {
     "read_only": false
    }
   },
   "outputs": [
    {
     "data": {
      "text/html": [
       "<div>\n",
       "<style scoped>\n",
       "    .dataframe tbody tr th:only-of-type {\n",
       "        vertical-align: middle;\n",
       "    }\n",
       "\n",
       "    .dataframe tbody tr th {\n",
       "        vertical-align: top;\n",
       "    }\n",
       "\n",
       "    .dataframe thead th {\n",
       "        text-align: right;\n",
       "    }\n",
       "</style>\n",
       "<table border=\"1\" class=\"dataframe\">\n",
       "  <thead>\n",
       "    <tr style=\"text-align: right;\">\n",
       "      <th></th>\n",
       "      <th>text</th>\n",
       "      <th>agreeCount</th>\n",
       "      <th>disagreeCount</th>\n",
       "      <th>id</th>\n",
       "      <th>user.firstName</th>\n",
       "      <th>user.lastName</th>\n",
       "      <th>user.gender</th>\n",
       "      <th>user.id</th>\n",
       "    </tr>\n",
       "  </thead>\n",
       "  <tbody>\n",
       "    <tr>\n",
       "      <td>0</td>\n",
       "      <td>A+ Italian food! Trust me on this: my mom’s side of the family is 100% Italian. I was born and bred to know good pasta when I see it, and Ecco is one of my all-time NYC favorites</td>\n",
       "      <td>4</td>\n",
       "      <td>0</td>\n",
       "      <td>5ab1cb46c9a517174651d3fe</td>\n",
       "      <td>Nick</td>\n",
       "      <td>E</td>\n",
       "      <td>NaN</td>\n",
       "      <td>484542633</td>\n",
       "    </tr>\n",
       "  </tbody>\n",
       "</table>\n",
       "</div>"
      ],
      "text/plain": [
       "                                                                                                                                                                                 text  \\\n",
       "0  A+ Italian food! Trust me on this: my mom’s side of the family is 100% Italian. I was born and bred to know good pasta when I see it, and Ecco is one of my all-time NYC favorites   \n",
       "\n",
       "   agreeCount  disagreeCount                        id user.firstName  \\\n",
       "0  4           0              5ab1cb46c9a517174651d3fe  Nick            \n",
       "\n",
       "  user.lastName  user.gender    user.id  \n",
       "0  E            NaN           484542633  "
      ]
     },
     "execution_count": 44,
     "metadata": {},
     "output_type": "execute_result"
    }
   ],
   "source": [
    "pd.set_option('display.max_colwidth', -1)\n",
    "\n",
    "tips_df = json_normalize(tips) # json normalize tips\n",
    "\n",
    "# columns to keep\n",
    "filtered_columns = ['text', 'agreeCount', 'disagreeCount', 'id', 'user.firstName', 'user.lastName', 'user.gender', 'user.id']\n",
    "tips_filtered = tips_df.loc[:, filtered_columns]\n",
    "\n",
    "# display tips\n",
    "tips_filtered\n",
    "#tips_filtered.columns\n"
   ]
  },
  {
   "cell_type": "markdown",
   "metadata": {
    "button": false,
    "deletable": true,
    "new_sheet": false,
    "run_control": {
     "read_only": false
    }
   },
   "source": [
    "Now remember that because we are using a personal developer account, then we can access only 2 of the restaurant's tips, instead of all 15 tips."
   ]
  },
  {
   "cell_type": "markdown",
   "metadata": {
    "button": false,
    "deletable": true,
    "new_sheet": false,
    "run_control": {
     "read_only": false
    }
   },
   "source": [
    "   "
   ]
  },
  {
   "cell_type": "markdown",
   "metadata": {
    "button": false,
    "deletable": true,
    "new_sheet": false,
    "run_control": {
     "read_only": false
    }
   },
   "source": [
    "<a id=\"item3\"></a>"
   ]
  },
  {
   "cell_type": "markdown",
   "metadata": {
    "button": false,
    "deletable": true,
    "new_sheet": false,
    "run_control": {
     "read_only": false
    }
   },
   "source": [
    "## 3. Search a Foursquare User\n",
    "> `https://api.foursquare.com/v2/users/`**USER_ID**`?client_id=`**CLIENT_ID**`&client_secret=`**CLIENT_SECRET**`&v=`**VERSION**"
   ]
  },
  {
   "cell_type": "markdown",
   "metadata": {
    "button": false,
    "deletable": true,
    "new_sheet": false,
    "run_control": {
     "read_only": false
    }
   },
   "source": [
    "### Define URL, send GET request and display features associated with user"
   ]
  },
  {
   "cell_type": "code",
   "execution_count": 50,
   "metadata": {
    "button": false,
    "collapsed": false,
    "deletable": true,
    "jupyter": {
     "outputs_hidden": false
    },
    "new_sheet": false,
    "run_control": {
     "read_only": false
    }
   },
   "outputs": [
    {
     "name": "stdout",
     "output_type": "stream",
     "text": [
      "{'meta': {'code': 401, 'errorType': 'invalid_auth', 'errorDetail': 'Missing oauth_token. See https://developer.foursquare.com/docs/api/configuration/authentication for details.', 'requestId': '5e56b82cbe61c9001bbcca9b'}, 'response': {}}\n"
     ]
    },
    {
     "ename": "KeyError",
     "evalue": "'user'",
     "output_type": "error",
     "traceback": [
      "\u001b[0;31m---------------------------------------------------------------------------\u001b[0m",
      "\u001b[0;31mKeyError\u001b[0m                                  Traceback (most recent call last)",
      "\u001b[0;32m<ipython-input-50-560b979443d5>\u001b[0m in \u001b[0;36m<module>\u001b[0;34m\u001b[0m\n\u001b[1;32m      6\u001b[0m \u001b[0mresults\u001b[0m \u001b[0;34m=\u001b[0m \u001b[0mrequests\u001b[0m\u001b[0;34m.\u001b[0m\u001b[0mget\u001b[0m\u001b[0;34m(\u001b[0m\u001b[0murl\u001b[0m\u001b[0;34m)\u001b[0m\u001b[0;34m.\u001b[0m\u001b[0mjson\u001b[0m\u001b[0;34m(\u001b[0m\u001b[0;34m)\u001b[0m\u001b[0;34m\u001b[0m\u001b[0;34m\u001b[0m\u001b[0m\n\u001b[1;32m      7\u001b[0m \u001b[0mprint\u001b[0m\u001b[0;34m(\u001b[0m\u001b[0mresults\u001b[0m\u001b[0;34m)\u001b[0m\u001b[0;34m\u001b[0m\u001b[0;34m\u001b[0m\u001b[0m\n\u001b[0;32m----> 8\u001b[0;31m \u001b[0muser_data\u001b[0m \u001b[0;34m=\u001b[0m \u001b[0mresults\u001b[0m\u001b[0;34m[\u001b[0m\u001b[0;34m'response'\u001b[0m\u001b[0;34m]\u001b[0m\u001b[0;34m[\u001b[0m\u001b[0;34m'user'\u001b[0m\u001b[0;34m]\u001b[0m\u001b[0;34m\u001b[0m\u001b[0;34m\u001b[0m\u001b[0m\n\u001b[0m\u001b[1;32m      9\u001b[0m \u001b[0;34m\u001b[0m\u001b[0m\n\u001b[1;32m     10\u001b[0m \u001b[0;31m# display features associated with user\u001b[0m\u001b[0;34m\u001b[0m\u001b[0;34m\u001b[0m\u001b[0;34m\u001b[0m\u001b[0m\n",
      "\u001b[0;31mKeyError\u001b[0m: 'user'"
     ]
    }
   ],
   "source": [
    "user_id = '484542633' # user ID with most agree counts and complete profile\n",
    "\n",
    "url = 'https://api.foursquare.com/v2/users/{}?client_id={}&client_secret={}&v={}'.format(user_id, CLIENT_ID, CLIENT_SECRET, VERSION) # define URL\n",
    "\n",
    "# send GET request\n",
    "results = requests.get(url).json()\n",
    "print(results)\n",
    "user_data = results['response']['user']\n",
    "\n",
    "# display features associated with user\n",
    "user_data.keys()"
   ]
  },
  {
   "cell_type": "code",
   "execution_count": null,
   "metadata": {
    "button": false,
    "collapsed": false,
    "deletable": true,
    "jupyter": {
     "outputs_hidden": false
    },
    "new_sheet": false,
    "run_control": {
     "read_only": false
    }
   },
   "outputs": [],
   "source": [
    "print('First Name: ' + user_data['firstName'])\n",
    "print('Last Name: ' + user_data['lastName'])\n",
    "print('Home City: ' + user_data['homeCity'])"
   ]
  },
  {
   "cell_type": "markdown",
   "metadata": {
    "button": false,
    "deletable": true,
    "new_sheet": false,
    "run_control": {
     "read_only": false
    }
   },
   "source": [
    "#### How many tips has this user submitted?"
   ]
  },
  {
   "cell_type": "code",
   "execution_count": null,
   "metadata": {
    "button": false,
    "collapsed": false,
    "deletable": true,
    "jupyter": {
     "outputs_hidden": false
    },
    "new_sheet": false,
    "run_control": {
     "read_only": false
    }
   },
   "outputs": [],
   "source": [
    "user_data['tips']"
   ]
  },
  {
   "cell_type": "markdown",
   "metadata": {
    "button": false,
    "deletable": true,
    "new_sheet": false,
    "run_control": {
     "read_only": false
    }
   },
   "source": [
    "Wow! So it turns out that Nick is a very active Foursquare user, with more than 250 tips."
   ]
  },
  {
   "cell_type": "markdown",
   "metadata": {
    "button": false,
    "deletable": true,
    "new_sheet": false,
    "run_control": {
     "read_only": false
    }
   },
   "source": [
    "### Get User's tips"
   ]
  },
  {
   "cell_type": "code",
   "execution_count": 51,
   "metadata": {
    "button": false,
    "collapsed": false,
    "deletable": true,
    "jupyter": {
     "outputs_hidden": false
    },
    "new_sheet": false,
    "run_control": {
     "read_only": false
    }
   },
   "outputs": [
    {
     "data": {
      "text/html": [
       "<div>\n",
       "<style scoped>\n",
       "    .dataframe tbody tr th:only-of-type {\n",
       "        vertical-align: middle;\n",
       "    }\n",
       "\n",
       "    .dataframe tbody tr th {\n",
       "        vertical-align: top;\n",
       "    }\n",
       "\n",
       "    .dataframe thead th {\n",
       "        text-align: right;\n",
       "    }\n",
       "</style>\n",
       "<table border=\"1\" class=\"dataframe\">\n",
       "  <thead>\n",
       "    <tr style=\"text-align: right;\">\n",
       "      <th></th>\n",
       "      <th>text</th>\n",
       "      <th>agreeCount</th>\n",
       "      <th>disagreeCount</th>\n",
       "      <th>id</th>\n",
       "    </tr>\n",
       "  </thead>\n",
       "  <tbody>\n",
       "    <tr>\n",
       "      <td>0</td>\n",
       "      <td>They serve coffee!!!!!!</td>\n",
       "      <td>1</td>\n",
       "      <td>0</td>\n",
       "      <td>5accc98c0313204c9d7ec157</td>\n",
       "    </tr>\n",
       "    <tr>\n",
       "      <td>1</td>\n",
       "      <td>The linguine with clams is on point 👌</td>\n",
       "      <td>1</td>\n",
       "      <td>0</td>\n",
       "      <td>5accbe3a911fc423730f3ed3</td>\n",
       "    </tr>\n",
       "    <tr>\n",
       "      <td>2</td>\n",
       "      <td>Quick, cheap lunch that tastes good! Way shorter line than Chipotle, too.</td>\n",
       "      <td>2</td>\n",
       "      <td>0</td>\n",
       "      <td>5acbec70a0215b732e264fe8</td>\n",
       "    </tr>\n",
       "    <tr>\n",
       "      <td>3</td>\n",
       "      <td>You’re not a real New Yorker until you’ve shame-ordered Insomnia Cookies for delivery at 3am</td>\n",
       "      <td>1</td>\n",
       "      <td>0</td>\n",
       "      <td>5acbbd4eb1538e45373b07f5</td>\n",
       "    </tr>\n",
       "    <tr>\n",
       "      <td>4</td>\n",
       "      <td>Good for you yet still tasty! Clean green protein is my go-to after I hit the gym 💪</td>\n",
       "      <td>2</td>\n",
       "      <td>0</td>\n",
       "      <td>5acbbcda01235808d5d6dc75</td>\n",
       "    </tr>\n",
       "    <tr>\n",
       "      <td>5</td>\n",
       "      <td>Burger game strong 💪</td>\n",
       "      <td>1</td>\n",
       "      <td>0</td>\n",
       "      <td>5ab575fb6bdee65f759da8c1</td>\n",
       "    </tr>\n",
       "    <tr>\n",
       "      <td>6</td>\n",
       "      <td>Great burgers &amp; fries! Also, this place is exactly what it’s like when you go to a bar in the Southwest. Source: I’m from Arizona.</td>\n",
       "      <td>2</td>\n",
       "      <td>0</td>\n",
       "      <td>5ab5575d73fe2516ad8f363b</td>\n",
       "    </tr>\n",
       "    <tr>\n",
       "      <td>7</td>\n",
       "      <td>Açaí bowl + peanut butter + whey protein = 💪💪💪</td>\n",
       "      <td>1</td>\n",
       "      <td>0</td>\n",
       "      <td>5ab42db53c858d64af2688a4</td>\n",
       "    </tr>\n",
       "    <tr>\n",
       "      <td>8</td>\n",
       "      <td>Highly underrated and way less crowded than Central Park!</td>\n",
       "      <td>3</td>\n",
       "      <td>0</td>\n",
       "      <td>5ab42c396f706a29f53ad1a8</td>\n",
       "    </tr>\n",
       "    <tr>\n",
       "      <td>9</td>\n",
       "      <td>Way easier to navigate than the Met proper, plus the Met Breuer focuses on modern art. If I only have a limited amount of time to spend in a museum, I would rather go here than anywhere else!</td>\n",
       "      <td>6</td>\n",
       "      <td>0</td>\n",
       "      <td>5ab42b987dc9e17930e5ff5b</td>\n",
       "    </tr>\n",
       "    <tr>\n",
       "      <td>10</td>\n",
       "      <td>Get the açaí bowl with peanut butter after your work out and thank me later 👌</td>\n",
       "      <td>1</td>\n",
       "      <td>0</td>\n",
       "      <td>5ab42aca2a7ab6333652b266</td>\n",
       "    </tr>\n",
       "    <tr>\n",
       "      <td>11</td>\n",
       "      <td>When you want a burger, this should be the first thing that comes to mind. A+!</td>\n",
       "      <td>1</td>\n",
       "      <td>0</td>\n",
       "      <td>5ab42a28da5e5617d18e3a6a</td>\n",
       "    </tr>\n",
       "    <tr>\n",
       "      <td>12</td>\n",
       "      <td>Way less crowded than Central Park! People who live in the neighborhood rave about Carl Schurz Park.</td>\n",
       "      <td>3</td>\n",
       "      <td>0</td>\n",
       "      <td>5ab429db1ffe971b060083f5</td>\n",
       "    </tr>\n",
       "    <tr>\n",
       "      <td>13</td>\n",
       "      <td>The best Mexican food in the Murray Hill / Kips Bay area!</td>\n",
       "      <td>1</td>\n",
       "      <td>0</td>\n",
       "      <td>5ab3f53f8496ca57542d5549</td>\n",
       "    </tr>\n",
       "    <tr>\n",
       "      <td>14</td>\n",
       "      <td>Best coffee shop in the neighborhood!</td>\n",
       "      <td>1</td>\n",
       "      <td>0</td>\n",
       "      <td>5ab3f428da5e5617d17d1475</td>\n",
       "    </tr>\n",
       "    <tr>\n",
       "      <td>15</td>\n",
       "      <td>When there’s nice weather, the rooftop at Tonic East is the best place to watch the game. Perfect for March Madness &amp; NBA finals!</td>\n",
       "      <td>2</td>\n",
       "      <td>0</td>\n",
       "      <td>5ab3f3fedd70c572de886c9d</td>\n",
       "    </tr>\n",
       "    <tr>\n",
       "      <td>16</td>\n",
       "      <td>Rib game level 💯</td>\n",
       "      <td>1</td>\n",
       "      <td>0</td>\n",
       "      <td>5ab3f372da2e00604ca53924</td>\n",
       "    </tr>\n",
       "    <tr>\n",
       "      <td>17</td>\n",
       "      <td>Solid option for good Mexican food, which is hard to find in Murray Hill.</td>\n",
       "      <td>4</td>\n",
       "      <td>0</td>\n",
       "      <td>5ab3f275dff815096a61884e</td>\n",
       "    </tr>\n",
       "    <tr>\n",
       "      <td>18</td>\n",
       "      <td>My parents love this place. They always go here when they visit NYC, even though I tell them there are 5,689,097,788 other pizza places. They don’t dare. That has to count for something, right?</td>\n",
       "      <td>2</td>\n",
       "      <td>0</td>\n",
       "      <td>5ab3ef834c954c7a779e20ff</td>\n",
       "    </tr>\n",
       "    <tr>\n",
       "      <td>19</td>\n",
       "      <td>So good it makes me burp after every meal. I’ve been told that’s a compliment in France, so I’m going to keep doing it 🇫🇷</td>\n",
       "      <td>2</td>\n",
       "      <td>0</td>\n",
       "      <td>5ab3e8d6d0336060272dd4d9</td>\n",
       "    </tr>\n",
       "  </tbody>\n",
       "</table>\n",
       "</div>"
      ],
      "text/plain": [
       "                                                                                                                                                                                                 text  \\\n",
       "0   They serve coffee!!!!!!                                                                                                                                                                             \n",
       "1   The linguine with clams is on point 👌                                                                                                                                                               \n",
       "2   Quick, cheap lunch that tastes good! Way shorter line than Chipotle, too.                                                                                                                           \n",
       "3   You’re not a real New Yorker until you’ve shame-ordered Insomnia Cookies for delivery at 3am                                                                                                        \n",
       "4   Good for you yet still tasty! Clean green protein is my go-to after I hit the gym 💪                                                                                                                 \n",
       "5   Burger game strong 💪                                                                                                                                                                                \n",
       "6   Great burgers & fries! Also, this place is exactly what it’s like when you go to a bar in the Southwest. Source: I’m from Arizona.                                                                  \n",
       "7   Açaí bowl + peanut butter + whey protein = 💪💪💪                                                                                                                                                      \n",
       "8   Highly underrated and way less crowded than Central Park!                                                                                                                                           \n",
       "9   Way easier to navigate than the Met proper, plus the Met Breuer focuses on modern art. If I only have a limited amount of time to spend in a museum, I would rather go here than anywhere else!     \n",
       "10  Get the açaí bowl with peanut butter after your work out and thank me later 👌                                                                                                                       \n",
       "11  When you want a burger, this should be the first thing that comes to mind. A+!                                                                                                                      \n",
       "12  Way less crowded than Central Park! People who live in the neighborhood rave about Carl Schurz Park.                                                                                                \n",
       "13  The best Mexican food in the Murray Hill / Kips Bay area!                                                                                                                                           \n",
       "14  Best coffee shop in the neighborhood!                                                                                                                                                               \n",
       "15  When there’s nice weather, the rooftop at Tonic East is the best place to watch the game. Perfect for March Madness & NBA finals!                                                                   \n",
       "16  Rib game level 💯                                                                                                                                                                                    \n",
       "17  Solid option for good Mexican food, which is hard to find in Murray Hill.                                                                                                                           \n",
       "18  My parents love this place. They always go here when they visit NYC, even though I tell them there are 5,689,097,788 other pizza places. They don’t dare. That has to count for something, right?   \n",
       "19  So good it makes me burp after every meal. I’ve been told that’s a compliment in France, so I’m going to keep doing it 🇫🇷                                                                           \n",
       "\n",
       "    agreeCount  disagreeCount                        id  \n",
       "0   1           0              5accc98c0313204c9d7ec157  \n",
       "1   1           0              5accbe3a911fc423730f3ed3  \n",
       "2   2           0              5acbec70a0215b732e264fe8  \n",
       "3   1           0              5acbbd4eb1538e45373b07f5  \n",
       "4   2           0              5acbbcda01235808d5d6dc75  \n",
       "5   1           0              5ab575fb6bdee65f759da8c1  \n",
       "6   2           0              5ab5575d73fe2516ad8f363b  \n",
       "7   1           0              5ab42db53c858d64af2688a4  \n",
       "8   3           0              5ab42c396f706a29f53ad1a8  \n",
       "9   6           0              5ab42b987dc9e17930e5ff5b  \n",
       "10  1           0              5ab42aca2a7ab6333652b266  \n",
       "11  1           0              5ab42a28da5e5617d18e3a6a  \n",
       "12  3           0              5ab429db1ffe971b060083f5  \n",
       "13  1           0              5ab3f53f8496ca57542d5549  \n",
       "14  1           0              5ab3f428da5e5617d17d1475  \n",
       "15  2           0              5ab3f3fedd70c572de886c9d  \n",
       "16  1           0              5ab3f372da2e00604ca53924  \n",
       "17  4           0              5ab3f275dff815096a61884e  \n",
       "18  2           0              5ab3ef834c954c7a779e20ff  \n",
       "19  2           0              5ab3e8d6d0336060272dd4d9  "
      ]
     },
     "execution_count": 51,
     "metadata": {},
     "output_type": "execute_result"
    }
   ],
   "source": [
    "# define tips URL\n",
    "url = 'https://api.foursquare.com/v2/users/{}/tips?client_id={}&client_secret={}&v={}&limit={}'.format(user_id, CLIENT_ID, CLIENT_SECRET, VERSION, limit)\n",
    "\n",
    "# send GET request and get user's tips\n",
    "results = requests.get(url).json()\n",
    "tips = results['response']['tips']['items']\n",
    "\n",
    "# format column width\n",
    "pd.set_option('display.max_colwidth', -1)\n",
    "\n",
    "tips_df = json_normalize(tips)\n",
    "\n",
    "# filter columns\n",
    "filtered_columns = ['text', 'agreeCount', 'disagreeCount', 'id']\n",
    "tips_filtered = tips_df.loc[:, filtered_columns]\n",
    "\n",
    "# display user's tips\n",
    "tips_filtered"
   ]
  },
  {
   "cell_type": "markdown",
   "metadata": {
    "button": false,
    "deletable": true,
    "new_sheet": false,
    "run_control": {
     "read_only": false
    }
   },
   "source": [
    "#### Let's get the venue for the tip with the greatest number of agree counts"
   ]
  },
  {
   "cell_type": "code",
   "execution_count": 52,
   "metadata": {
    "button": false,
    "collapsed": false,
    "deletable": true,
    "jupyter": {
     "outputs_hidden": false
    },
    "new_sheet": false,
    "run_control": {
     "read_only": false
    }
   },
   "outputs": [
    {
     "name": "stdout",
     "output_type": "stream",
     "text": [
      "Cowgirl\n",
      "{'address': '519 Hudson St', 'crossStreet': 'at W 10th St', 'lat': 40.73373338282062, 'lng': -74.0062998849649, 'labeledLatLngs': [{'label': 'display', 'lat': 40.73373338282062, 'lng': -74.0062998849649}], 'postalCode': '10014', 'cc': 'US', 'city': 'New York', 'state': 'NY', 'country': 'United States', 'formattedAddress': ['519 Hudson St (at W 10th St)', 'New York, NY 10014', 'United States']}\n"
     ]
    }
   ],
   "source": [
    "tip_id = '5ab5575d73fe2516ad8f363b' # tip id\n",
    "\n",
    "# define URL\n",
    "url = 'http://api.foursquare.com/v2/tips/{}?client_id={}&client_secret={}&v={}'.format(tip_id, CLIENT_ID, CLIENT_SECRET, VERSION)\n",
    "\n",
    "# send GET Request and examine results\n",
    "result = requests.get(url).json()\n",
    "print(result['response']['tip']['venue']['name'])\n",
    "print(result['response']['tip']['venue']['location'])"
   ]
  },
  {
   "cell_type": "markdown",
   "metadata": {
    "button": false,
    "deletable": true,
    "new_sheet": false,
    "run_control": {
     "read_only": false
    }
   },
   "source": [
    "### Get User's friends"
   ]
  },
  {
   "cell_type": "code",
   "execution_count": 53,
   "metadata": {
    "button": false,
    "collapsed": false,
    "deletable": true,
    "jupyter": {
     "outputs_hidden": false
    },
    "new_sheet": false,
    "run_control": {
     "read_only": false
    }
   },
   "outputs": [
    {
     "ename": "NameError",
     "evalue": "name 'user_data' is not defined",
     "output_type": "error",
     "traceback": [
      "\u001b[0;31m---------------------------------------------------------------------------\u001b[0m",
      "\u001b[0;31mNameError\u001b[0m                                 Traceback (most recent call last)",
      "\u001b[0;32m<ipython-input-53-bcc27b1bf8b4>\u001b[0m in \u001b[0;36m<module>\u001b[0;34m\u001b[0m\n\u001b[0;32m----> 1\u001b[0;31m \u001b[0muser_friends\u001b[0m \u001b[0;34m=\u001b[0m \u001b[0mjson_normalize\u001b[0m\u001b[0;34m(\u001b[0m\u001b[0muser_data\u001b[0m\u001b[0;34m[\u001b[0m\u001b[0;34m'friends'\u001b[0m\u001b[0;34m]\u001b[0m\u001b[0;34m[\u001b[0m\u001b[0;34m'groups'\u001b[0m\u001b[0;34m]\u001b[0m\u001b[0;34m[\u001b[0m\u001b[0;36m0\u001b[0m\u001b[0;34m]\u001b[0m\u001b[0;34m[\u001b[0m\u001b[0;34m'items'\u001b[0m\u001b[0;34m]\u001b[0m\u001b[0;34m)\u001b[0m\u001b[0;34m\u001b[0m\u001b[0;34m\u001b[0m\u001b[0m\n\u001b[0m\u001b[1;32m      2\u001b[0m \u001b[0muser_friends\u001b[0m\u001b[0;34m\u001b[0m\u001b[0;34m\u001b[0m\u001b[0m\n",
      "\u001b[0;31mNameError\u001b[0m: name 'user_data' is not defined"
     ]
    }
   ],
   "source": [
    "user_friends = json_normalize(user_data['friends']['groups'][0]['items'])\n",
    "user_friends"
   ]
  },
  {
   "cell_type": "markdown",
   "metadata": {
    "button": false,
    "deletable": true,
    "new_sheet": false,
    "run_control": {
     "read_only": false
    }
   },
   "source": [
    "Interesting. Despite being very active, it turns out that Nick does not have any friends on Foursquare. This might definitely change in the future."
   ]
  },
  {
   "cell_type": "markdown",
   "metadata": {
    "button": false,
    "deletable": true,
    "new_sheet": false,
    "run_control": {
     "read_only": false
    }
   },
   "source": [
    "### Retrieve the User's Profile Image"
   ]
  },
  {
   "cell_type": "code",
   "execution_count": null,
   "metadata": {
    "button": false,
    "collapsed": false,
    "deletable": true,
    "jupyter": {
     "outputs_hidden": false
    },
    "new_sheet": false,
    "run_control": {
     "read_only": false
    },
    "scrolled": true
   },
   "outputs": [],
   "source": [
    "user_data"
   ]
  },
  {
   "cell_type": "code",
   "execution_count": null,
   "metadata": {
    "button": false,
    "collapsed": false,
    "deletable": true,
    "jupyter": {
     "outputs_hidden": false
    },
    "new_sheet": false,
    "run_control": {
     "read_only": false
    }
   },
   "outputs": [],
   "source": [
    "# 1. grab prefix of photo\n",
    "# 2. grab suffix of photo\n",
    "# 3. concatenate them using the image size  \n",
    "Image(url='https://igx.4sqi.net/img/user/300x300/484542633_mK2Yum7T_7Tn9fWpndidJsmw2Hof_6T5vJBKCHPLMK5OL-U5ZiJGj51iwBstcpDLYa3Zvhvis.jpg')"
   ]
  },
  {
   "cell_type": "markdown",
   "metadata": {
    "button": false,
    "deletable": true,
    "new_sheet": false,
    "run_control": {
     "read_only": false
    }
   },
   "source": [
    "  "
   ]
  },
  {
   "cell_type": "markdown",
   "metadata": {
    "button": false,
    "deletable": true,
    "new_sheet": false,
    "run_control": {
     "read_only": false
    }
   },
   "source": [
    "<a id=\"item4\"></a>"
   ]
  },
  {
   "cell_type": "markdown",
   "metadata": {
    "button": false,
    "deletable": true,
    "new_sheet": false,
    "run_control": {
     "read_only": false
    }
   },
   "source": [
    "## 4. Explore a location\n",
    "> `https://api.foursquare.com/v2/venues/`**explore**`?client_id=`**CLIENT_ID**`&client_secret=`**CLIENT_SECRET**`&ll=`**LATITUDE**`,`**LONGITUDE**`&v=`**VERSION**`&limit=`**LIMIT**"
   ]
  },
  {
   "cell_type": "markdown",
   "metadata": {
    "button": false,
    "deletable": true,
    "new_sheet": false,
    "run_control": {
     "read_only": false
    }
   },
   "source": [
    "#### So, you just finished your gourmet dish at Ecco, and are just curious about the popular spots around the restaurant. In order to explore the area, let's start by getting the latitude and longitude values of Ecco Restaurant."
   ]
  },
  {
   "cell_type": "code",
   "execution_count": 54,
   "metadata": {
    "button": false,
    "deletable": true,
    "new_sheet": false,
    "run_control": {
     "read_only": false
    }
   },
   "outputs": [],
   "source": [
    "latitude = 40.715337\n",
    "longitude = -74.008848"
   ]
  },
  {
   "cell_type": "markdown",
   "metadata": {
    "button": false,
    "deletable": true,
    "new_sheet": false,
    "run_control": {
     "read_only": false
    }
   },
   "source": [
    "#### Define URL"
   ]
  },
  {
   "cell_type": "code",
   "execution_count": 55,
   "metadata": {
    "button": false,
    "collapsed": false,
    "deletable": true,
    "jupyter": {
     "outputs_hidden": false
    },
    "new_sheet": false,
    "run_control": {
     "read_only": false
    }
   },
   "outputs": [
    {
     "data": {
      "text/plain": [
       "'https://api.foursquare.com/v2/venues/explore?client_id=L0TXGO1IZHVWB54RS4IQBCO0OTRYYLX3MRYDMDMEHYWR3KV0&client_secret=F2YLMRERUVAJ4AMQLE4HNW5U3JDTAH35054EPWEYPLLT5VQ4&ll=40.715337,-74.008848&v=20180604&radius=500&limit=30'"
      ]
     },
     "execution_count": 55,
     "metadata": {},
     "output_type": "execute_result"
    }
   ],
   "source": [
    "url = 'https://api.foursquare.com/v2/venues/explore?client_id={}&client_secret={}&ll={},{}&v={}&radius={}&limit={}'.format(CLIENT_ID, CLIENT_SECRET, latitude, longitude, VERSION, radius, LIMIT)\n",
    "url"
   ]
  },
  {
   "cell_type": "markdown",
   "metadata": {
    "button": false,
    "deletable": true,
    "new_sheet": false,
    "run_control": {
     "read_only": false
    }
   },
   "source": [
    "#### Send GET request and examine results"
   ]
  },
  {
   "cell_type": "code",
   "execution_count": 56,
   "metadata": {
    "button": false,
    "deletable": true,
    "new_sheet": false,
    "run_control": {
     "read_only": false
    }
   },
   "outputs": [],
   "source": [
    "import requests"
   ]
  },
  {
   "cell_type": "code",
   "execution_count": 58,
   "metadata": {
    "button": false,
    "collapsed": false,
    "deletable": true,
    "jupyter": {
     "outputs_hidden": false
    },
    "new_sheet": false,
    "run_control": {
     "read_only": false
    }
   },
   "outputs": [
    {
     "data": {
      "text/plain": [
       "'There are 30 around Ecco restaurant.'"
      ]
     },
     "execution_count": 58,
     "metadata": {},
     "output_type": "execute_result"
    }
   ],
   "source": [
    "results = requests.get(url).json()\n",
    "'There are {} around Ecco restaurant.'.format(len(results['response']['groups'][0]['items']))"
   ]
  },
  {
   "cell_type": "markdown",
   "metadata": {
    "button": false,
    "deletable": true,
    "new_sheet": false,
    "run_control": {
     "read_only": false
    }
   },
   "source": [
    "#### Get relevant part of JSON"
   ]
  },
  {
   "cell_type": "code",
   "execution_count": 59,
   "metadata": {
    "button": false,
    "collapsed": false,
    "deletable": true,
    "jupyter": {
     "outputs_hidden": false
    },
    "new_sheet": false,
    "run_control": {
     "read_only": false
    }
   },
   "outputs": [
    {
     "data": {
      "text/plain": [
       "{'reasons': {'count': 0,\n",
       "  'items': [{'summary': 'This spot is popular',\n",
       "    'type': 'general',\n",
       "    'reasonName': 'globalInteractionReason'}]},\n",
       " 'venue': {'id': '4af5d65ff964a52091fd21e3',\n",
       "  'name': 'Korin',\n",
       "  'location': {'address': '57 Warren St',\n",
       "   'crossStreet': 'Church St',\n",
       "   'lat': 40.71482437714839,\n",
       "   'lng': -74.00940425461492,\n",
       "   'labeledLatLngs': [{'label': 'display',\n",
       "     'lat': 40.71482437714839,\n",
       "     'lng': -74.00940425461492}],\n",
       "   'distance': 73,\n",
       "   'postalCode': '10007',\n",
       "   'cc': 'US',\n",
       "   'neighborhood': 'Tribeca',\n",
       "   'city': 'New York',\n",
       "   'state': 'NY',\n",
       "   'country': 'United States',\n",
       "   'formattedAddress': ['57 Warren St (Church St)',\n",
       "    'New York, NY 10007',\n",
       "    'United States']},\n",
       "  'categories': [{'id': '4bf58dd8d48988d1f8941735',\n",
       "    'name': 'Furniture / Home Store',\n",
       "    'pluralName': 'Furniture / Home Stores',\n",
       "    'shortName': 'Furniture / Home',\n",
       "    'icon': {'prefix': 'https://ss3.4sqi.net/img/categories_v2/shops/furniture_',\n",
       "     'suffix': '.png'},\n",
       "    'primary': True}],\n",
       "  'photos': {'count': 0, 'groups': []},\n",
       "  'venuePage': {'id': '33104775'}},\n",
       " 'referralId': 'e-0-4af5d65ff964a52091fd21e3-0'}"
      ]
     },
     "execution_count": 59,
     "metadata": {},
     "output_type": "execute_result"
    }
   ],
   "source": [
    "items = results['response']['groups'][0]['items']\n",
    "items[0]"
   ]
  },
  {
   "cell_type": "markdown",
   "metadata": {
    "button": false,
    "deletable": true,
    "new_sheet": false,
    "run_control": {
     "read_only": false
    }
   },
   "source": [
    "#### Process JSON and convert it to a clean dataframe"
   ]
  },
  {
   "cell_type": "code",
   "execution_count": 60,
   "metadata": {
    "button": false,
    "collapsed": false,
    "deletable": true,
    "jupyter": {
     "outputs_hidden": false
    },
    "new_sheet": false,
    "run_control": {
     "read_only": false
    }
   },
   "outputs": [
    {
     "data": {
      "text/html": [
       "<div>\n",
       "<style scoped>\n",
       "    .dataframe tbody tr th:only-of-type {\n",
       "        vertical-align: middle;\n",
       "    }\n",
       "\n",
       "    .dataframe tbody tr th {\n",
       "        vertical-align: top;\n",
       "    }\n",
       "\n",
       "    .dataframe thead th {\n",
       "        text-align: right;\n",
       "    }\n",
       "</style>\n",
       "<table border=\"1\" class=\"dataframe\">\n",
       "  <thead>\n",
       "    <tr style=\"text-align: right;\">\n",
       "      <th></th>\n",
       "      <th>name</th>\n",
       "      <th>categories</th>\n",
       "      <th>address</th>\n",
       "      <th>crossStreet</th>\n",
       "      <th>lat</th>\n",
       "      <th>lng</th>\n",
       "      <th>labeledLatLngs</th>\n",
       "      <th>distance</th>\n",
       "      <th>postalCode</th>\n",
       "      <th>cc</th>\n",
       "      <th>neighborhood</th>\n",
       "      <th>city</th>\n",
       "      <th>state</th>\n",
       "      <th>country</th>\n",
       "      <th>formattedAddress</th>\n",
       "      <th>id</th>\n",
       "    </tr>\n",
       "  </thead>\n",
       "  <tbody>\n",
       "    <tr>\n",
       "      <td>0</td>\n",
       "      <td>Korin</td>\n",
       "      <td>Furniture / Home Store</td>\n",
       "      <td>57 Warren St</td>\n",
       "      <td>Church St</td>\n",
       "      <td>40.714824</td>\n",
       "      <td>-74.009404</td>\n",
       "      <td>[{'label': 'display', 'lat': 40.71482437714839, 'lng': -74.00940425461492}]</td>\n",
       "      <td>73</td>\n",
       "      <td>10007</td>\n",
       "      <td>US</td>\n",
       "      <td>Tribeca</td>\n",
       "      <td>New York</td>\n",
       "      <td>NY</td>\n",
       "      <td>United States</td>\n",
       "      <td>[57 Warren St (Church St), New York, NY 10007, United States]</td>\n",
       "      <td>4af5d65ff964a52091fd21e3</td>\n",
       "    </tr>\n",
       "    <tr>\n",
       "      <td>1</td>\n",
       "      <td>Los Tacos No. 1</td>\n",
       "      <td>Taco Place</td>\n",
       "      <td>136 Church St</td>\n",
       "      <td>NaN</td>\n",
       "      <td>40.714267</td>\n",
       "      <td>-74.008756</td>\n",
       "      <td>[{'label': 'display', 'lat': 40.714267, 'lng': -74.008756}]</td>\n",
       "      <td>119</td>\n",
       "      <td>10007</td>\n",
       "      <td>US</td>\n",
       "      <td>NaN</td>\n",
       "      <td>New York</td>\n",
       "      <td>NY</td>\n",
       "      <td>United States</td>\n",
       "      <td>[136 Church St, New York, NY 10007, United States]</td>\n",
       "      <td>5d5f24ec09484500079aee00</td>\n",
       "    </tr>\n",
       "    <tr>\n",
       "      <td>2</td>\n",
       "      <td>Takahachi Bakery</td>\n",
       "      <td>Bakery</td>\n",
       "      <td>25 Murray St</td>\n",
       "      <td>at Church St</td>\n",
       "      <td>40.713653</td>\n",
       "      <td>-74.008804</td>\n",
       "      <td>[{'label': 'display', 'lat': 40.713652845301894, 'lng': -74.0088038953017}]</td>\n",
       "      <td>187</td>\n",
       "      <td>10007</td>\n",
       "      <td>US</td>\n",
       "      <td>NaN</td>\n",
       "      <td>New York</td>\n",
       "      <td>NY</td>\n",
       "      <td>United States</td>\n",
       "      <td>[25 Murray St (at Church St), New York, NY 10007, United States]</td>\n",
       "      <td>4c154c9a77cea593c401d260</td>\n",
       "    </tr>\n",
       "    <tr>\n",
       "      <td>3</td>\n",
       "      <td>Juice Press</td>\n",
       "      <td>Vegetarian / Vegan Restaurant</td>\n",
       "      <td>83 Murray St</td>\n",
       "      <td>btwn Greenwich St &amp; W Broadway</td>\n",
       "      <td>40.714788</td>\n",
       "      <td>-74.011132</td>\n",
       "      <td>[{'label': 'display', 'lat': 40.71478769908051, 'lng': -74.0111317502157}]</td>\n",
       "      <td>202</td>\n",
       "      <td>10007</td>\n",
       "      <td>US</td>\n",
       "      <td>NaN</td>\n",
       "      <td>New York</td>\n",
       "      <td>NY</td>\n",
       "      <td>United States</td>\n",
       "      <td>[83 Murray St (btwn Greenwich St &amp; W Broadway), New York, NY 10007, United States]</td>\n",
       "      <td>54148bc6498ea7bb8c05b70a</td>\n",
       "    </tr>\n",
       "    <tr>\n",
       "      <td>4</td>\n",
       "      <td>Chambers Street Wines</td>\n",
       "      <td>Wine Shop</td>\n",
       "      <td>148 Chambers St</td>\n",
       "      <td>btwn West Broadway &amp; Hudson St</td>\n",
       "      <td>40.715773</td>\n",
       "      <td>-74.009718</td>\n",
       "      <td>[{'label': 'display', 'lat': 40.715773063928374, 'lng': -74.00971823312332}]</td>\n",
       "      <td>88</td>\n",
       "      <td>10007</td>\n",
       "      <td>US</td>\n",
       "      <td>NaN</td>\n",
       "      <td>New York</td>\n",
       "      <td>NY</td>\n",
       "      <td>United States</td>\n",
       "      <td>[148 Chambers St (btwn West Broadway &amp; Hudson St), New York, NY 10007, United States]</td>\n",
       "      <td>4adcf23cf964a520cc6221e3</td>\n",
       "    </tr>\n",
       "    <tr>\n",
       "      <td>5</td>\n",
       "      <td>Heyday</td>\n",
       "      <td>Spa</td>\n",
       "      <td>92 Reade St</td>\n",
       "      <td>NaN</td>\n",
       "      <td>40.715726</td>\n",
       "      <td>-74.007767</td>\n",
       "      <td>[{'label': 'display', 'lat': 40.715726, 'lng': -74.007767}]</td>\n",
       "      <td>100</td>\n",
       "      <td>10013</td>\n",
       "      <td>US</td>\n",
       "      <td>NaN</td>\n",
       "      <td>New York</td>\n",
       "      <td>NY</td>\n",
       "      <td>United States</td>\n",
       "      <td>[92 Reade St, New York, NY 10013, United States]</td>\n",
       "      <td>57ad129c498e05b086594d72</td>\n",
       "    </tr>\n",
       "    <tr>\n",
       "      <td>6</td>\n",
       "      <td>Philip Williams Posters</td>\n",
       "      <td>Antique Shop</td>\n",
       "      <td>122 Chambers St</td>\n",
       "      <td>NaN</td>\n",
       "      <td>40.715284</td>\n",
       "      <td>-74.008781</td>\n",
       "      <td>[{'label': 'display', 'lat': 40.71528423132827, 'lng': -74.00878093952018}]</td>\n",
       "      <td>8</td>\n",
       "      <td>10007</td>\n",
       "      <td>US</td>\n",
       "      <td>NaN</td>\n",
       "      <td>New York</td>\n",
       "      <td>NY</td>\n",
       "      <td>United States</td>\n",
       "      <td>[122 Chambers St, New York, NY 10007, United States]</td>\n",
       "      <td>4b747291f964a52042dd2de3</td>\n",
       "    </tr>\n",
       "    <tr>\n",
       "      <td>7</td>\n",
       "      <td>Takahachi</td>\n",
       "      <td>Sushi Restaurant</td>\n",
       "      <td>145 Duane St</td>\n",
       "      <td>btwn W Broadway &amp; Church St</td>\n",
       "      <td>40.716526</td>\n",
       "      <td>-74.008101</td>\n",
       "      <td>[{'label': 'display', 'lat': 40.71652647412374, 'lng': -74.00810108466207}]</td>\n",
       "      <td>146</td>\n",
       "      <td>10013</td>\n",
       "      <td>US</td>\n",
       "      <td>NaN</td>\n",
       "      <td>New York</td>\n",
       "      <td>NY</td>\n",
       "      <td>United States</td>\n",
       "      <td>[145 Duane St (btwn W Broadway &amp; Church St), New York, NY 10013, United States]</td>\n",
       "      <td>4a8f2f39f964a520471420e3</td>\n",
       "    </tr>\n",
       "    <tr>\n",
       "      <td>8</td>\n",
       "      <td>Equinox Tribeca</td>\n",
       "      <td>Gym</td>\n",
       "      <td>54 Murray St</td>\n",
       "      <td>at W Broadway</td>\n",
       "      <td>40.714099</td>\n",
       "      <td>-74.009686</td>\n",
       "      <td>[{'label': 'display', 'lat': 40.71409860726041, 'lng': -74.0096857179283}]</td>\n",
       "      <td>154</td>\n",
       "      <td>10007</td>\n",
       "      <td>US</td>\n",
       "      <td>NaN</td>\n",
       "      <td>New York</td>\n",
       "      <td>NY</td>\n",
       "      <td>United States</td>\n",
       "      <td>[54 Murray St (at W Broadway), New York, NY 10007, United States]</td>\n",
       "      <td>4a6e331af964a52031d41fe3</td>\n",
       "    </tr>\n",
       "    <tr>\n",
       "      <td>9</td>\n",
       "      <td>Nish Nūsh</td>\n",
       "      <td>Falafel Restaurant</td>\n",
       "      <td>88 Reade St</td>\n",
       "      <td>at Church St</td>\n",
       "      <td>40.715537</td>\n",
       "      <td>-74.007725</td>\n",
       "      <td>[{'label': 'display', 'lat': 40.71553710116416, 'lng': -74.00772452925565}]</td>\n",
       "      <td>97</td>\n",
       "      <td>10013</td>\n",
       "      <td>US</td>\n",
       "      <td>NaN</td>\n",
       "      <td>New York</td>\n",
       "      <td>NY</td>\n",
       "      <td>United States</td>\n",
       "      <td>[88 Reade St (at Church St), New York, NY 10013, United States]</td>\n",
       "      <td>50ba9119e4b071a4bae6dc10</td>\n",
       "    </tr>\n",
       "  </tbody>\n",
       "</table>\n",
       "</div>"
      ],
      "text/plain": [
       "                      name                     categories          address  \\\n",
       "0  Korin                    Furniture / Home Store         57 Warren St      \n",
       "1  Los Tacos No. 1          Taco Place                     136 Church St     \n",
       "2  Takahachi Bakery         Bakery                         25 Murray St      \n",
       "3  Juice Press              Vegetarian / Vegan Restaurant  83 Murray St      \n",
       "4  Chambers Street Wines    Wine Shop                      148 Chambers St   \n",
       "5  Heyday                   Spa                            92 Reade St       \n",
       "6  Philip Williams Posters  Antique Shop                   122 Chambers St   \n",
       "7  Takahachi                Sushi Restaurant               145 Duane St      \n",
       "8  Equinox Tribeca          Gym                            54 Murray St      \n",
       "9  Nish Nūsh                Falafel Restaurant             88 Reade St       \n",
       "\n",
       "                      crossStreet        lat        lng  \\\n",
       "0  Church St                       40.714824 -74.009404   \n",
       "1  NaN                             40.714267 -74.008756   \n",
       "2  at Church St                    40.713653 -74.008804   \n",
       "3  btwn Greenwich St & W Broadway  40.714788 -74.011132   \n",
       "4  btwn West Broadway & Hudson St  40.715773 -74.009718   \n",
       "5  NaN                             40.715726 -74.007767   \n",
       "6  NaN                             40.715284 -74.008781   \n",
       "7  btwn W Broadway & Church St     40.716526 -74.008101   \n",
       "8  at W Broadway                   40.714099 -74.009686   \n",
       "9  at Church St                    40.715537 -74.007725   \n",
       "\n",
       "                                                                 labeledLatLngs  \\\n",
       "0  [{'label': 'display', 'lat': 40.71482437714839, 'lng': -74.00940425461492}]    \n",
       "1  [{'label': 'display', 'lat': 40.714267, 'lng': -74.008756}]                    \n",
       "2  [{'label': 'display', 'lat': 40.713652845301894, 'lng': -74.0088038953017}]    \n",
       "3  [{'label': 'display', 'lat': 40.71478769908051, 'lng': -74.0111317502157}]     \n",
       "4  [{'label': 'display', 'lat': 40.715773063928374, 'lng': -74.00971823312332}]   \n",
       "5  [{'label': 'display', 'lat': 40.715726, 'lng': -74.007767}]                    \n",
       "6  [{'label': 'display', 'lat': 40.71528423132827, 'lng': -74.00878093952018}]    \n",
       "7  [{'label': 'display', 'lat': 40.71652647412374, 'lng': -74.00810108466207}]    \n",
       "8  [{'label': 'display', 'lat': 40.71409860726041, 'lng': -74.0096857179283}]     \n",
       "9  [{'label': 'display', 'lat': 40.71553710116416, 'lng': -74.00772452925565}]    \n",
       "\n",
       "   distance postalCode  cc neighborhood      city state        country  \\\n",
       "0  73        10007      US  Tribeca      New York  NY    United States   \n",
       "1  119       10007      US  NaN          New York  NY    United States   \n",
       "2  187       10007      US  NaN          New York  NY    United States   \n",
       "3  202       10007      US  NaN          New York  NY    United States   \n",
       "4  88        10007      US  NaN          New York  NY    United States   \n",
       "5  100       10013      US  NaN          New York  NY    United States   \n",
       "6  8         10007      US  NaN          New York  NY    United States   \n",
       "7  146       10013      US  NaN          New York  NY    United States   \n",
       "8  154       10007      US  NaN          New York  NY    United States   \n",
       "9  97        10013      US  NaN          New York  NY    United States   \n",
       "\n",
       "                                                                        formattedAddress  \\\n",
       "0  [57 Warren St (Church St), New York, NY 10007, United States]                           \n",
       "1  [136 Church St, New York, NY 10007, United States]                                      \n",
       "2  [25 Murray St (at Church St), New York, NY 10007, United States]                        \n",
       "3  [83 Murray St (btwn Greenwich St & W Broadway), New York, NY 10007, United States]      \n",
       "4  [148 Chambers St (btwn West Broadway & Hudson St), New York, NY 10007, United States]   \n",
       "5  [92 Reade St, New York, NY 10013, United States]                                        \n",
       "6  [122 Chambers St, New York, NY 10007, United States]                                    \n",
       "7  [145 Duane St (btwn W Broadway & Church St), New York, NY 10013, United States]         \n",
       "8  [54 Murray St (at W Broadway), New York, NY 10007, United States]                       \n",
       "9  [88 Reade St (at Church St), New York, NY 10013, United States]                         \n",
       "\n",
       "                         id  \n",
       "0  4af5d65ff964a52091fd21e3  \n",
       "1  5d5f24ec09484500079aee00  \n",
       "2  4c154c9a77cea593c401d260  \n",
       "3  54148bc6498ea7bb8c05b70a  \n",
       "4  4adcf23cf964a520cc6221e3  \n",
       "5  57ad129c498e05b086594d72  \n",
       "6  4b747291f964a52042dd2de3  \n",
       "7  4a8f2f39f964a520471420e3  \n",
       "8  4a6e331af964a52031d41fe3  \n",
       "9  50ba9119e4b071a4bae6dc10  "
      ]
     },
     "execution_count": 60,
     "metadata": {},
     "output_type": "execute_result"
    }
   ],
   "source": [
    "dataframe = json_normalize(items) # flatten JSON\n",
    "\n",
    "# filter columns\n",
    "filtered_columns = ['venue.name', 'venue.categories'] + [col for col in dataframe.columns if col.startswith('venue.location.')] + ['venue.id']\n",
    "dataframe_filtered = dataframe.loc[:, filtered_columns]\n",
    "\n",
    "# filter the category for each row\n",
    "dataframe_filtered['venue.categories'] = dataframe_filtered.apply(get_category_type, axis=1)\n",
    "\n",
    "# clean columns\n",
    "dataframe_filtered.columns = [col.split('.')[-1] for col in dataframe_filtered.columns]\n",
    "\n",
    "dataframe_filtered.head(10)"
   ]
  },
  {
   "cell_type": "markdown",
   "metadata": {
    "button": false,
    "deletable": true,
    "new_sheet": false,
    "run_control": {
     "read_only": false
    }
   },
   "source": [
    "#### Let's visualize these items on the map around our location"
   ]
  },
  {
   "cell_type": "code",
   "execution_count": 62,
   "metadata": {
    "button": false,
    "collapsed": false,
    "deletable": true,
    "jupyter": {
     "outputs_hidden": false
    },
    "new_sheet": false,
    "run_control": {
     "read_only": false
    }
   },
   "outputs": [
    {
     "data": {
      "text/html": [
       "<div style=\"width:100%;\"><div style=\"position:relative;width:100%;height:0;padding-bottom:60%;\"><iframe src=\"data:text/html;charset=utf-8;base64,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\" style=\"position:absolute;width:100%;height:100%;left:0;top:0;border:none !important;\" allowfullscreen webkitallowfullscreen mozallowfullscreen></iframe></div></div>"
      ],
      "text/plain": [
       "<folium.folium.Map at 0x7f332aa27990>"
      ]
     },
     "execution_count": 62,
     "metadata": {},
     "output_type": "execute_result"
    }
   ],
   "source": [
    "venues_map = folium.Map(location=[latitude, longitude], zoom_start=15) # generate map centred around Ecco\n",
    "\n",
    "\n",
    "# add Ecco as a red circle mark\n",
    "folium.CircleMarker(\n",
    "    [latitude, longitude],\n",
    "    radius=10,\n",
    "    popup='Ecco',\n",
    "    fill=True,\n",
    "    color='red',\n",
    "    fill_color='red',\n",
    "    fill_opacity=0.6\n",
    "    ).add_to(venues_map)\n",
    "\n",
    "\n",
    "# add popular spots to the map as blue circle markers\n",
    "for lat, lng, label in zip(dataframe_filtered.lat, dataframe_filtered.lng, dataframe_filtered.categories):\n",
    "    folium.CircleMarker(\n",
    "        [lat, lng],\n",
    "        radius=5,\n",
    "        popup=label,\n",
    "        fill=True,\n",
    "        color='blue',\n",
    "        fill_color='blue',\n",
    "        fill_opacity=0.6\n",
    "        ).add_to(venues_map)\n",
    "\n",
    "# display map\n",
    "venues_map"
   ]
  },
  {
   "cell_type": "markdown",
   "metadata": {
    "button": false,
    "deletable": true,
    "new_sheet": false,
    "run_control": {
     "read_only": false
    }
   },
   "source": [
    "   "
   ]
  },
  {
   "cell_type": "markdown",
   "metadata": {
    "button": false,
    "deletable": true,
    "new_sheet": false,
    "run_control": {
     "read_only": false
    }
   },
   "source": [
    "<a id=\"item5\"></a>"
   ]
  },
  {
   "cell_type": "markdown",
   "metadata": {
    "button": false,
    "deletable": true,
    "new_sheet": false,
    "run_control": {
     "read_only": false
    }
   },
   "source": [
    "## 5. Explore Trending Venues\n",
    "> `https://api.foursquare.com/v2/venues/`**trending**`?client_id=`**CLIENT_ID**`&client_secret=`**CLIENT_SECRET**`&ll=`**LATITUDE**`,`**LONGITUDE**`&v=`**VERSION**"
   ]
  },
  {
   "cell_type": "markdown",
   "metadata": {
    "button": false,
    "deletable": true,
    "new_sheet": false,
    "run_control": {
     "read_only": false
    }
   },
   "source": [
    "#### Now, instead of simply exploring the area around Ecco, you are interested in knowing the venues that are trending at the time you are done with your lunch, meaning the places with the highest foot traffic. So let's do that and get the trending venues around Ecco."
   ]
  },
  {
   "cell_type": "code",
   "execution_count": null,
   "metadata": {
    "button": false,
    "collapsed": false,
    "deletable": true,
    "jupyter": {
     "outputs_hidden": false
    },
    "new_sheet": false,
    "run_control": {
     "read_only": false
    }
   },
   "outputs": [],
   "source": [
    "# define URL\n",
    "url = 'https://api.foursquare.com/v2/venues/trending?client_id={}&client_secret={}&ll={},{}&v={}'.format(CLIENT_ID, CLIENT_SECRET, latitude, longitude, VERSION)\n",
    "\n",
    "# send GET request and get trending venues\n",
    "results = requests.get(url).json()\n",
    "results"
   ]
  },
  {
   "cell_type": "markdown",
   "metadata": {
    "button": false,
    "deletable": true,
    "new_sheet": false,
    "run_control": {
     "read_only": false
    }
   },
   "source": [
    "### Check if any venues are trending at this time"
   ]
  },
  {
   "cell_type": "code",
   "execution_count": null,
   "metadata": {
    "button": false,
    "collapsed": true,
    "deletable": true,
    "jupyter": {
     "outputs_hidden": true
    },
    "new_sheet": false,
    "run_control": {
     "read_only": false
    }
   },
   "outputs": [],
   "source": [
    "if len(results['response']['venues']) == 0:\n",
    "    trending_venues_df = 'No trending venues are available at the moment!'\n",
    "    \n",
    "else:\n",
    "    trending_venues = results['response']['venues']\n",
    "    trending_venues_df = json_normalize(trending_venues)\n",
    "\n",
    "    # filter columns\n",
    "    columns_filtered = ['name', 'categories'] + ['location.distance', 'location.city', 'location.postalCode', 'location.state', 'location.country', 'location.lat', 'location.lng']\n",
    "    trending_venues_df = trending_venues_df.loc[:, columns_filtered]\n",
    "\n",
    "    # filter the category for each row\n",
    "    trending_venues_df['categories'] = trending_venues_df.apply(get_category_type, axis=1)"
   ]
  },
  {
   "cell_type": "code",
   "execution_count": null,
   "metadata": {
    "button": false,
    "collapsed": false,
    "deletable": true,
    "jupyter": {
     "outputs_hidden": false
    },
    "new_sheet": false,
    "run_control": {
     "read_only": false
    }
   },
   "outputs": [],
   "source": [
    "# display trending venues\n",
    "trending_venues_df"
   ]
  },
  {
   "cell_type": "markdown",
   "metadata": {
    "button": false,
    "deletable": true,
    "new_sheet": false,
    "run_control": {
     "read_only": false
    }
   },
   "source": [
    "Now, depending on when you run the above code, you might get different venues since the venues with the highest foot traffic are fetched live. "
   ]
  },
  {
   "cell_type": "markdown",
   "metadata": {
    "button": false,
    "deletable": true,
    "new_sheet": false,
    "run_control": {
     "read_only": false
    }
   },
   "source": [
    "### Visualize trending venues"
   ]
  },
  {
   "cell_type": "code",
   "execution_count": null,
   "metadata": {
    "button": false,
    "collapsed": false,
    "deletable": true,
    "jupyter": {
     "outputs_hidden": false
    },
    "new_sheet": false,
    "run_control": {
     "read_only": false
    }
   },
   "outputs": [],
   "source": [
    "if len(results['response']['venues']) == 0:\n",
    "    venues_map = 'Cannot generate visual as no trending venues are available at the moment!'\n",
    "\n",
    "else:\n",
    "    venues_map = folium.Map(location=[latitude, longitude], zoom_start=15) # generate map centred around Ecco\n",
    "\n",
    "\n",
    "    # add Ecco as a red circle mark\n",
    "    folium.CircleMarker(\n",
    "        [latitude, longitude],\n",
    "        radius=10,\n",
    "        popup='Ecco',\n",
    "        fill=True,\n",
    "        color='red',\n",
    "        fill_color='red',\n",
    "        fill_opacity=0.6\n",
    "    ).add_to(venues_map)\n",
    "\n",
    "\n",
    "    # add the trending venues as blue circle markers\n",
    "    for lat, lng, label in zip(trending_venues_df['location.lat'], trending_venues_df['location.lng'], trending_venues_df['name']):\n",
    "        folium.CircleMarker(\n",
    "            [lat, lng],\n",
    "            radius=5,\n",
    "            poup=label,\n",
    "            fill=True,\n",
    "            color='blue',\n",
    "            fill_color='blue',\n",
    "            fill_opacity=0.6\n",
    "        ).add_to(venues_map)"
   ]
  },
  {
   "cell_type": "code",
   "execution_count": null,
   "metadata": {
    "button": false,
    "collapsed": false,
    "deletable": true,
    "jupyter": {
     "outputs_hidden": false
    },
    "new_sheet": false,
    "run_control": {
     "read_only": false
    }
   },
   "outputs": [],
   "source": [
    "# display map\n",
    "venues_map"
   ]
  },
  {
   "cell_type": "markdown",
   "metadata": {
    "button": false,
    "deletable": true,
    "new_sheet": false,
    "run_control": {
     "read_only": false
    }
   },
   "source": [
    "<a id=\"item6\"></a>"
   ]
  },
  {
   "cell_type": "markdown",
   "metadata": {
    "button": false,
    "deletable": true,
    "new_sheet": false,
    "run_control": {
     "read_only": false
    }
   },
   "source": [
    "   "
   ]
  },
  {
   "cell_type": "markdown",
   "metadata": {
    "button": false,
    "deletable": true,
    "new_sheet": false,
    "run_control": {
     "read_only": false
    }
   },
   "source": [
    "### Thank you for completing this lab!\n",
    "\n",
    "This notebook was created by [Alex Aklson](https://www.linkedin.com/in/aklson/). I hope you found this lab interesting and educational. Feel free to contact me if you have any questions!"
   ]
  },
  {
   "cell_type": "markdown",
   "metadata": {
    "button": false,
    "deletable": true,
    "new_sheet": false,
    "run_control": {
     "read_only": false
    }
   },
   "source": [
    "This notebook is part of a course on **Coursera** called *Applied Data Science Capstone*. If you accessed this notebook outside the course, you can take this course online by clicking [here](http://cocl.us/DP0701EN_Coursera_Week2_LAB1)."
   ]
  },
  {
   "cell_type": "markdown",
   "metadata": {
    "button": false,
    "deletable": true,
    "new_sheet": false,
    "run_control": {
     "read_only": false
    }
   },
   "source": [
    "<hr>\n",
    "Copyright &copy; 2018 [Cognitive Class](https://cognitiveclass.ai/?utm_source=bducopyrightlink&utm_medium=dswb&utm_campaign=bdu). This notebook and its source code are released under the terms of the [MIT License](https://bigdatauniversity.com/mit-license/)."
   ]
  }
 ],
 "metadata": {
  "kernelspec": {
   "display_name": "Python 3",
   "language": "python",
   "name": "python3"
  },
  "language_info": {
   "codemirror_mode": {
    "name": "ipython",
    "version": 3
   },
   "file_extension": ".py",
   "mimetype": "text/x-python",
   "name": "python",
   "nbconvert_exporter": "python",
   "pygments_lexer": "ipython3",
   "version": "3.7.4"
  },
  "widgets": {
   "state": {},
   "version": "1.1.2"
  }
 },
 "nbformat": 4,
 "nbformat_minor": 4
}
